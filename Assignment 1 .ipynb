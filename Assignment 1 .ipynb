{
 "cells": [
  {
   "cell_type": "markdown",
   "id": "a3ca5378",
   "metadata": {},
   "source": [
    "### MS – ASA 494 - Assignment – 1\n",
    "### Regression Analysis"
   ]
  },
  {
   "cell_type": "markdown",
   "id": "b85d94eb",
   "metadata": {},
   "source": [
    "#### A - Life expectancy Data"
   ]
  },
  {
   "cell_type": "code",
   "execution_count": 1,
   "id": "24d53eba",
   "metadata": {},
   "outputs": [],
   "source": [
    "import pyforest\n",
    "from sklearn.model_selection import train_test_split\n",
    "import statsmodels.api as sm\n",
    "import math"
   ]
  },
  {
   "cell_type": "code",
   "execution_count": 3,
   "id": "ee3de14c",
   "metadata": {},
   "outputs": [
    {
     "data": {
      "application/javascript": [
       "\n",
       "        if (window._pyforest_update_imports_cell) { window._pyforest_update_imports_cell('import pandas as pd'); }\n",
       "    "
      ],
      "text/plain": [
       "<IPython.core.display.Javascript object>"
      ]
     },
     "metadata": {},
     "output_type": "display_data"
    },
    {
     "data": {
      "text/html": [
       "<div>\n",
       "<style scoped>\n",
       "    .dataframe tbody tr th:only-of-type {\n",
       "        vertical-align: middle;\n",
       "    }\n",
       "\n",
       "    .dataframe tbody tr th {\n",
       "        vertical-align: top;\n",
       "    }\n",
       "\n",
       "    .dataframe thead th {\n",
       "        text-align: right;\n",
       "    }\n",
       "</style>\n",
       "<table border=\"1\" class=\"dataframe\">\n",
       "  <thead>\n",
       "    <tr style=\"text-align: right;\">\n",
       "      <th></th>\n",
       "      <th>Country</th>\n",
       "      <th>Year</th>\n",
       "      <th>Status</th>\n",
       "      <th>Life.expectancy</th>\n",
       "      <th>GDP</th>\n",
       "    </tr>\n",
       "  </thead>\n",
       "  <tbody>\n",
       "    <tr>\n",
       "      <th>0</th>\n",
       "      <td>Afghanistan</td>\n",
       "      <td>2015</td>\n",
       "      <td>Developing</td>\n",
       "      <td>65.0</td>\n",
       "      <td>584.259210</td>\n",
       "    </tr>\n",
       "    <tr>\n",
       "      <th>1</th>\n",
       "      <td>Albania</td>\n",
       "      <td>2015</td>\n",
       "      <td>Developing</td>\n",
       "      <td>77.8</td>\n",
       "      <td>3954.227830</td>\n",
       "    </tr>\n",
       "    <tr>\n",
       "      <th>2</th>\n",
       "      <td>Algeria</td>\n",
       "      <td>2015</td>\n",
       "      <td>Developing</td>\n",
       "      <td>75.6</td>\n",
       "      <td>4132.762920</td>\n",
       "    </tr>\n",
       "    <tr>\n",
       "      <th>3</th>\n",
       "      <td>Angola</td>\n",
       "      <td>2015</td>\n",
       "      <td>Developing</td>\n",
       "      <td>52.4</td>\n",
       "      <td>3695.793748</td>\n",
       "    </tr>\n",
       "    <tr>\n",
       "      <th>4</th>\n",
       "      <td>Antigua and Barbuda</td>\n",
       "      <td>2015</td>\n",
       "      <td>Developing</td>\n",
       "      <td>76.4</td>\n",
       "      <td>13566.954100</td>\n",
       "    </tr>\n",
       "    <tr>\n",
       "      <th>...</th>\n",
       "      <td>...</td>\n",
       "      <td>...</td>\n",
       "      <td>...</td>\n",
       "      <td>...</td>\n",
       "      <td>...</td>\n",
       "    </tr>\n",
       "    <tr>\n",
       "      <th>178</th>\n",
       "      <td>Venezuela (Bolivarian Republic of)</td>\n",
       "      <td>2015</td>\n",
       "      <td>Developing</td>\n",
       "      <td>74.1</td>\n",
       "      <td>NaN</td>\n",
       "    </tr>\n",
       "    <tr>\n",
       "      <th>179</th>\n",
       "      <td>Viet Nam</td>\n",
       "      <td>2015</td>\n",
       "      <td>Developing</td>\n",
       "      <td>76.0</td>\n",
       "      <td>NaN</td>\n",
       "    </tr>\n",
       "    <tr>\n",
       "      <th>180</th>\n",
       "      <td>Yemen</td>\n",
       "      <td>2015</td>\n",
       "      <td>Developing</td>\n",
       "      <td>65.7</td>\n",
       "      <td>NaN</td>\n",
       "    </tr>\n",
       "    <tr>\n",
       "      <th>181</th>\n",
       "      <td>Zambia</td>\n",
       "      <td>2015</td>\n",
       "      <td>Developing</td>\n",
       "      <td>61.8</td>\n",
       "      <td>1313.889646</td>\n",
       "    </tr>\n",
       "    <tr>\n",
       "      <th>182</th>\n",
       "      <td>Zimbabwe</td>\n",
       "      <td>2015</td>\n",
       "      <td>Developing</td>\n",
       "      <td>67.0</td>\n",
       "      <td>118.693830</td>\n",
       "    </tr>\n",
       "  </tbody>\n",
       "</table>\n",
       "<p>183 rows × 5 columns</p>\n",
       "</div>"
      ],
      "text/plain": [
       "                                Country  Year      Status  Life.expectancy  \\\n",
       "0                           Afghanistan  2015  Developing             65.0   \n",
       "1                               Albania  2015  Developing             77.8   \n",
       "2                               Algeria  2015  Developing             75.6   \n",
       "3                                Angola  2015  Developing             52.4   \n",
       "4                   Antigua and Barbuda  2015  Developing             76.4   \n",
       "..                                  ...   ...         ...              ...   \n",
       "178  Venezuela (Bolivarian Republic of)  2015  Developing             74.1   \n",
       "179                            Viet Nam  2015  Developing             76.0   \n",
       "180                               Yemen  2015  Developing             65.7   \n",
       "181                              Zambia  2015  Developing             61.8   \n",
       "182                            Zimbabwe  2015  Developing             67.0   \n",
       "\n",
       "              GDP  \n",
       "0      584.259210  \n",
       "1     3954.227830  \n",
       "2     4132.762920  \n",
       "3     3695.793748  \n",
       "4    13566.954100  \n",
       "..            ...  \n",
       "178           NaN  \n",
       "179           NaN  \n",
       "180           NaN  \n",
       "181   1313.889646  \n",
       "182    118.693830  \n",
       "\n",
       "[183 rows x 5 columns]"
      ]
     },
     "execution_count": 3,
     "metadata": {},
     "output_type": "execute_result"
    }
   ],
   "source": [
    "life = pd.read_csv(\"C:/Users/Akash/Desktop/Mayukh sir practical/assignment1/a1d1.csv\")\n",
    "life"
   ]
  },
  {
   "cell_type": "code",
   "execution_count": 4,
   "id": "fa1638bd",
   "metadata": {},
   "outputs": [
    {
     "name": "stdout",
     "output_type": "stream",
     "text": [
      "33.681223\n",
      "66346.52267\n"
     ]
    }
   ],
   "source": [
    "le = life[\"Life.expectancy\"]\n",
    "gdp = life[\"GDP\"]\n",
    "print(gdp.min())\n",
    "print(gdp.max())"
   ]
  },
  {
   "cell_type": "markdown",
   "id": "23459ea8",
   "metadata": {},
   "source": [
    "#### Q1 - Do any of the values look different from the rest? Fit a regression line of Life Expectancy on GDP and see if there are any influential points."
   ]
  },
  {
   "cell_type": "markdown",
   "id": "df2525e8",
   "metadata": {},
   "source": [
    "##### Checking for null"
   ]
  },
  {
   "cell_type": "code",
   "execution_count": 5,
   "id": "bcf211db",
   "metadata": {},
   "outputs": [
    {
     "name": "stdout",
     "output_type": "stream",
     "text": [
      "0\n",
      "29\n"
     ]
    }
   ],
   "source": [
    "print(le.isnull().sum())\n",
    "print(gdp.isnull().sum())"
   ]
  },
  {
   "cell_type": "markdown",
   "id": "fb248232",
   "metadata": {},
   "source": [
    "##### filling the nan values of gdp"
   ]
  },
  {
   "cell_type": "code",
   "execution_count": 6,
   "id": "57f71afe",
   "metadata": {},
   "outputs": [
    {
     "data": {
      "text/plain": [
       "0         584.259210\n",
       "1        3954.227830\n",
       "2        4132.762920\n",
       "3        3695.793748\n",
       "4       13566.954100\n",
       "           ...      \n",
       "178    323595.000000\n",
       "179     19324.110000\n",
       "180      4244.510000\n",
       "181      1313.889646\n",
       "182       118.693830\n",
       "Name: GDP, Length: 183, dtype: float64"
      ]
     },
     "execution_count": 6,
     "metadata": {},
     "output_type": "execute_result"
    }
   ],
   "source": [
    "life[\"GDP\"]\n",
    "\n",
    "new_gdp = [1171.08,3300.02,4581.46,3791.77,18803,629,3791.77,32936.66,2.02,137.82,38495.15,\n",
    " 667.82,1439.04,2784.21,31.65,2172.35,147000,774.52,180.81,75.54,8846.76,120201.42188,\n",
    " 1007.12,293000,4737.86,1824000,323595,19324.11,4244.51]\n",
    "\n",
    "nans = life[\"GDP\"].isna()\n",
    "length = sum(nans)\n",
    "\n",
    "life.loc[nans,\"GDP\"] = new_gdp\n",
    "\n",
    "life[\"GDP\"]"
   ]
  },
  {
   "cell_type": "code",
   "execution_count": 7,
   "id": "ee96165f",
   "metadata": {},
   "outputs": [
    {
     "data": {
      "application/javascript": [
       "\n",
       "        if (window._pyforest_update_imports_cell) { window._pyforest_update_imports_cell('import pandas as pd'); }\n",
       "    "
      ],
      "text/plain": [
       "<IPython.core.display.Javascript object>"
      ]
     },
     "metadata": {},
     "output_type": "display_data"
    },
    {
     "data": {
      "text/html": [
       "<div>\n",
       "<style scoped>\n",
       "    .dataframe tbody tr th:only-of-type {\n",
       "        vertical-align: middle;\n",
       "    }\n",
       "\n",
       "    .dataframe tbody tr th {\n",
       "        vertical-align: top;\n",
       "    }\n",
       "\n",
       "    .dataframe thead th {\n",
       "        text-align: right;\n",
       "    }\n",
       "</style>\n",
       "<table border=\"1\" class=\"dataframe\">\n",
       "  <thead>\n",
       "    <tr style=\"text-align: right;\">\n",
       "      <th></th>\n",
       "      <th>Life exp</th>\n",
       "      <th>GDP</th>\n",
       "    </tr>\n",
       "  </thead>\n",
       "  <tbody>\n",
       "    <tr>\n",
       "      <th>0</th>\n",
       "      <td>65.0</td>\n",
       "      <td>584.259210</td>\n",
       "    </tr>\n",
       "    <tr>\n",
       "      <th>1</th>\n",
       "      <td>77.8</td>\n",
       "      <td>3954.227830</td>\n",
       "    </tr>\n",
       "    <tr>\n",
       "      <th>2</th>\n",
       "      <td>75.6</td>\n",
       "      <td>4132.762920</td>\n",
       "    </tr>\n",
       "    <tr>\n",
       "      <th>3</th>\n",
       "      <td>52.4</td>\n",
       "      <td>3695.793748</td>\n",
       "    </tr>\n",
       "    <tr>\n",
       "      <th>4</th>\n",
       "      <td>76.4</td>\n",
       "      <td>13566.954100</td>\n",
       "    </tr>\n",
       "    <tr>\n",
       "      <th>...</th>\n",
       "      <td>...</td>\n",
       "      <td>...</td>\n",
       "    </tr>\n",
       "    <tr>\n",
       "      <th>178</th>\n",
       "      <td>74.1</td>\n",
       "      <td>323595.000000</td>\n",
       "    </tr>\n",
       "    <tr>\n",
       "      <th>179</th>\n",
       "      <td>76.0</td>\n",
       "      <td>19324.110000</td>\n",
       "    </tr>\n",
       "    <tr>\n",
       "      <th>180</th>\n",
       "      <td>65.7</td>\n",
       "      <td>4244.510000</td>\n",
       "    </tr>\n",
       "    <tr>\n",
       "      <th>181</th>\n",
       "      <td>61.8</td>\n",
       "      <td>1313.889646</td>\n",
       "    </tr>\n",
       "    <tr>\n",
       "      <th>182</th>\n",
       "      <td>67.0</td>\n",
       "      <td>118.693830</td>\n",
       "    </tr>\n",
       "  </tbody>\n",
       "</table>\n",
       "<p>183 rows × 2 columns</p>\n",
       "</div>"
      ],
      "text/plain": [
       "     Life exp            GDP\n",
       "0        65.0     584.259210\n",
       "1        77.8    3954.227830\n",
       "2        75.6    4132.762920\n",
       "3        52.4    3695.793748\n",
       "4        76.4   13566.954100\n",
       "..        ...            ...\n",
       "178      74.1  323595.000000\n",
       "179      76.0   19324.110000\n",
       "180      65.7    4244.510000\n",
       "181      61.8    1313.889646\n",
       "182      67.0     118.693830\n",
       "\n",
       "[183 rows x 2 columns]"
      ]
     },
     "execution_count": 7,
     "metadata": {},
     "output_type": "execute_result"
    }
   ],
   "source": [
    "dict1 = {\"Life exp\":le, \"GDP\":life[\"GDP\"]}\n",
    "data = pd.DataFrame(dict1)\n",
    "data"
   ]
  },
  {
   "cell_type": "code",
   "execution_count": 8,
   "id": "115f6cba",
   "metadata": {},
   "outputs": [
    {
     "data": {
      "text/plain": [
       "0"
      ]
     },
     "execution_count": 8,
     "metadata": {},
     "output_type": "execute_result"
    }
   ],
   "source": [
    "data[\"GDP\"].isnull().sum()\n",
    "data[\"Life exp\"].isnull().sum()"
   ]
  },
  {
   "cell_type": "markdown",
   "id": "c29c4583",
   "metadata": {},
   "source": [
    "##### checking irregular points in the data"
   ]
  },
  {
   "cell_type": "code",
   "execution_count": 9,
   "id": "392f93c9",
   "metadata": {},
   "outputs": [
    {
     "data": {
      "application/javascript": [
       "\n",
       "        if (window._pyforest_update_imports_cell) { window._pyforest_update_imports_cell('import pandas as pd\\nimport matplotlib.pyplot as plt'); }\n",
       "    "
      ],
      "text/plain": [
       "<IPython.core.display.Javascript object>"
      ]
     },
     "metadata": {},
     "output_type": "display_data"
    },
    {
     "data": {
      "text/plain": [
       "<matplotlib.collections.PathCollection at 0x118118747c0>"
      ]
     },
     "execution_count": 9,
     "metadata": {},
     "output_type": "execute_result"
    },
    {
     "data": {
      "image/png": "[encoded data removed]",
      "text/plain": [
       "<Figure size 432x288 with 1 Axes>"
      ]
     },
     "metadata": {
      "needs_background": "light"
     },
     "output_type": "display_data"
    }
   ],
   "source": [
    "plt.scatter(data[\"GDP\"],le)"
   ]
  },
  {
   "cell_type": "code",
   "execution_count": 10,
   "id": "eb2b161d",
   "metadata": {},
   "outputs": [
    {
     "data": {
      "application/javascript": [
       "\n",
       "        if (window._pyforest_update_imports_cell) { window._pyforest_update_imports_cell('import pandas as pd\\nimport matplotlib.pyplot as plt'); }\n",
       "    "
      ],
      "text/plain": [
       "<IPython.core.display.Javascript object>"
      ]
     },
     "metadata": {},
     "output_type": "display_data"
    },
    {
     "name": "stdout",
     "output_type": "stream",
     "text": [
      "The maximum value of le is = 88.0\n",
      "The minimum value of le is = 51.0\n"
     ]
    },
    {
     "data": {
      "image/png": "[encoded data removed]",
      "text/plain": [
       "<Figure size 432x288 with 1 Axes>"
      ]
     },
     "metadata": {
      "needs_background": "light"
     },
     "output_type": "display_data"
    }
   ],
   "source": [
    "# LIFE EXPECTANCY\n",
    "\n",
    "plt.plot(data[\"Life exp\"])\n",
    "print(\"The maximum value of le is =\",data[\"Life exp\"].max())\n",
    "print(\"The minimum value of le is =\",data[\"Life exp\"].min())"
   ]
  },
  {
   "cell_type": "code",
   "execution_count": 11,
   "id": "7d172b56",
   "metadata": {},
   "outputs": [
    {
     "data": {
      "application/javascript": [
       "\n",
       "        if (window._pyforest_update_imports_cell) { window._pyforest_update_imports_cell('import pandas as pd\\nimport matplotlib.pyplot as plt'); }\n",
       "    "
      ],
      "text/plain": [
       "<IPython.core.display.Javascript object>"
      ]
     },
     "metadata": {},
     "output_type": "display_data"
    },
    {
     "name": "stdout",
     "output_type": "stream",
     "text": [
      "The maximum value of gdp is = 1824000.0\n",
      "The minimum value of gdp is = 2.02\n"
     ]
    },
    {
     "data": {
      "image/png": "[encoded data removed]",
      "text/plain": [
       "<Figure size 432x288 with 1 Axes>"
      ]
     },
     "metadata": {
      "needs_background": "light"
     },
     "output_type": "display_data"
    }
   ],
   "source": [
    "# GDP\n",
    "\n",
    "plt.plot(data[\"GDP\"])\n",
    "print(\"The maximum value of gdp is =\",data[\"GDP\"].max())\n",
    "print(\"The minimum value of gdp is =\",data[\"GDP\"].min())"
   ]
  },
  {
   "cell_type": "code",
   "execution_count": 12,
   "id": "01262ebe",
   "metadata": {},
   "outputs": [
    {
     "data": {
      "application/javascript": [
       "\n",
       "        if (window._pyforest_update_imports_cell) { window._pyforest_update_imports_cell('import pandas as pd\\nimport matplotlib.pyplot as plt\\nimport numpy as np'); }\n",
       "    "
      ],
      "text/plain": [
       "<IPython.core.display.Javascript object>"
      ]
     },
     "metadata": {},
     "output_type": "display_data"
    },
    {
     "data": {
      "application/javascript": [
       "\n",
       "        if (window._pyforest_update_imports_cell) { window._pyforest_update_imports_cell('import pandas as pd\\nimport matplotlib.pyplot as plt\\nimport numpy as np'); }\n",
       "    "
      ],
      "text/plain": [
       "<IPython.core.display.Javascript object>"
      ]
     },
     "metadata": {},
     "output_type": "display_data"
    },
    {
     "name": "stdout",
     "output_type": "stream",
     "text": [
      "Q1 of gdp is 768.390609\n",
      "Q3 of gdp is 8576.523699\n",
      "The upper limit for our range is -10943.809025999999\n",
      "The lower limit for our range is 20288.723334\n"
     ]
    }
   ],
   "source": [
    "Q1 = np.percentile(data[\"GDP\"],25)\n",
    "Q3 = np.percentile(data[\"GDP\"],75)\n",
    "print(\"Q1 of gdp is\",Q1)\n",
    "print(\"Q3 of gdp is\",Q3)\n",
    "\n",
    "iqr = (8576.523699-768.390609)\n",
    "\n",
    "# removing all the datapoints that life outside the range (Q1 - 1.5*iqr) = r1,(Q3 + 1.5*iqr) = r2\n",
    "\n",
    "r1 = (Q1 - (1.5*iqr))\n",
    "r2 = (Q3 + (1.5*iqr))\n",
    "\n",
    "print(\"The upper limit for our range is\",r1)\n",
    "print(\"The lower limit for our range is\",r2)"
   ]
  },
  {
   "cell_type": "code",
   "execution_count": 13,
   "id": "36e9bf54",
   "metadata": {},
   "outputs": [
    {
     "name": "stdout",
     "output_type": "stream",
     "text": [
      "The suspected outliers are [56554.3876, 43665.947, 22688.87824, 43315.744, 32936.66, 36526.7711, 41176.88158, 38495.15, 35729.37253, 34474.13736, 28975.418, 23819.4636, 44292.88473, 66346.52267, 147000.0, 53629.73746, 25683.84565, 120201.42188, 293000.0, 1824000.0, 323595.0]\n",
      "21\n"
     ]
    }
   ],
   "source": [
    "l1 = []\n",
    "l2 = []\n",
    "for i in data[\"GDP\"]:\n",
    "    if r1<i<r2:\n",
    "        l1.append(i)\n",
    "    else:\n",
    "        l2.append(i)\n",
    "print(\"The suspected outliers are\",l2)\n",
    "print(len(l2))\n",
    "# the values that we are going to keep -> l1"
   ]
  },
  {
   "cell_type": "code",
   "execution_count": 14,
   "id": "7909bcef",
   "metadata": {},
   "outputs": [
    {
     "data": {
      "text/html": [
       "<div>\n",
       "<style scoped>\n",
       "    .dataframe tbody tr th:only-of-type {\n",
       "        vertical-align: middle;\n",
       "    }\n",
       "\n",
       "    .dataframe tbody tr th {\n",
       "        vertical-align: top;\n",
       "    }\n",
       "\n",
       "    .dataframe thead th {\n",
       "        text-align: right;\n",
       "    }\n",
       "</style>\n",
       "<table border=\"1\" class=\"dataframe\">\n",
       "  <thead>\n",
       "    <tr style=\"text-align: right;\">\n",
       "      <th></th>\n",
       "      <th>Life exp</th>\n",
       "      <th>GDP</th>\n",
       "    </tr>\n",
       "  </thead>\n",
       "  <tbody>\n",
       "    <tr>\n",
       "      <th>0</th>\n",
       "      <td>65.0</td>\n",
       "      <td>584.259210</td>\n",
       "    </tr>\n",
       "    <tr>\n",
       "      <th>1</th>\n",
       "      <td>77.8</td>\n",
       "      <td>3954.227830</td>\n",
       "    </tr>\n",
       "    <tr>\n",
       "      <th>2</th>\n",
       "      <td>75.6</td>\n",
       "      <td>4132.762920</td>\n",
       "    </tr>\n",
       "    <tr>\n",
       "      <th>3</th>\n",
       "      <td>52.4</td>\n",
       "      <td>3695.793748</td>\n",
       "    </tr>\n",
       "    <tr>\n",
       "      <th>4</th>\n",
       "      <td>76.4</td>\n",
       "      <td>13566.954100</td>\n",
       "    </tr>\n",
       "    <tr>\n",
       "      <th>...</th>\n",
       "      <td>...</td>\n",
       "      <td>...</td>\n",
       "    </tr>\n",
       "    <tr>\n",
       "      <th>177</th>\n",
       "      <td>72.0</td>\n",
       "      <td>285.834140</td>\n",
       "    </tr>\n",
       "    <tr>\n",
       "      <th>179</th>\n",
       "      <td>76.0</td>\n",
       "      <td>19324.110000</td>\n",
       "    </tr>\n",
       "    <tr>\n",
       "      <th>180</th>\n",
       "      <td>65.7</td>\n",
       "      <td>4244.510000</td>\n",
       "    </tr>\n",
       "    <tr>\n",
       "      <th>181</th>\n",
       "      <td>61.8</td>\n",
       "      <td>1313.889646</td>\n",
       "    </tr>\n",
       "    <tr>\n",
       "      <th>182</th>\n",
       "      <td>67.0</td>\n",
       "      <td>118.693830</td>\n",
       "    </tr>\n",
       "  </tbody>\n",
       "</table>\n",
       "<p>162 rows × 2 columns</p>\n",
       "</div>"
      ],
      "text/plain": [
       "     Life exp           GDP\n",
       "0        65.0    584.259210\n",
       "1        77.8   3954.227830\n",
       "2        75.6   4132.762920\n",
       "3        52.4   3695.793748\n",
       "4        76.4  13566.954100\n",
       "..        ...           ...\n",
       "177      72.0    285.834140\n",
       "179      76.0  19324.110000\n",
       "180      65.7   4244.510000\n",
       "181      61.8   1313.889646\n",
       "182      67.0    118.693830\n",
       "\n",
       "[162 rows x 2 columns]"
      ]
     },
     "execution_count": 14,
     "metadata": {},
     "output_type": "execute_result"
    }
   ],
   "source": [
    "# DATASET WITHOUT THE IRREGUALR POINTS \n",
    "data1 = data[data[\"GDP\"].isin(l1)]\n",
    "data1"
   ]
  },
  {
   "cell_type": "markdown",
   "id": "77e1575d",
   "metadata": {},
   "source": [
    "##### Simple linear regression "
   ]
  },
  {
   "cell_type": "markdown",
   "id": "2e5bada2",
   "metadata": {},
   "source": [
    "##### original dataset without removing suspected irregular points"
   ]
  },
  {
   "cell_type": "code",
   "execution_count": 15,
   "id": "94219020",
   "metadata": {},
   "outputs": [
    {
     "data": {
      "text/html": [
       "<table class=\"simpletable\">\n",
       "<caption>OLS Regression Results</caption>\n",
       "<tr>\n",
       "  <th>Dep. Variable:</th>        <td>Life exp</td>     <th>  R-squared:         </th> <td>   0.020</td>\n",
       "</tr>\n",
       "<tr>\n",
       "  <th>Model:</th>                   <td>OLS</td>       <th>  Adj. R-squared:    </th> <td>   0.014</td>\n",
       "</tr>\n",
       "<tr>\n",
       "  <th>Method:</th>             <td>Least Squares</td>  <th>  F-statistic:       </th> <td>   2.992</td>\n",
       "</tr>\n",
       "<tr>\n",
       "  <th>Date:</th>             <td>Sun, 05 Jun 2022</td> <th>  Prob (F-statistic):</th>  <td>0.0858</td> \n",
       "</tr>\n",
       "<tr>\n",
       "  <th>Time:</th>                 <td>21:32:03</td>     <th>  Log-Likelihood:    </th> <td> -505.22</td>\n",
       "</tr>\n",
       "<tr>\n",
       "  <th>No. Observations:</th>      <td>   146</td>      <th>  AIC:               </th> <td>   1014.</td>\n",
       "</tr>\n",
       "<tr>\n",
       "  <th>Df Residuals:</th>          <td>   144</td>      <th>  BIC:               </th> <td>   1020.</td>\n",
       "</tr>\n",
       "<tr>\n",
       "  <th>Df Model:</th>              <td>     1</td>      <th>                     </th>     <td> </td>   \n",
       "</tr>\n",
       "<tr>\n",
       "  <th>Covariance Type:</th>      <td>nonrobust</td>    <th>                     </th>     <td> </td>   \n",
       "</tr>\n",
       "</table>\n",
       "<table class=\"simpletable\">\n",
       "<tr>\n",
       "    <td></td>       <th>coef</th>     <th>std err</th>      <th>t</th>      <th>P>|t|</th>  <th>[0.025</th>    <th>0.975]</th>  \n",
       "</tr>\n",
       "<tr>\n",
       "  <th>const</th> <td>   70.8839</td> <td>    0.650</td> <td>  109.061</td> <td> 0.000</td> <td>   69.599</td> <td>   72.169</td>\n",
       "</tr>\n",
       "<tr>\n",
       "  <th>GDP</th>   <td> 7.183e-06</td> <td> 4.15e-06</td> <td>    1.730</td> <td> 0.086</td> <td>-1.02e-06</td> <td> 1.54e-05</td>\n",
       "</tr>\n",
       "</table>\n",
       "<table class=\"simpletable\">\n",
       "<tr>\n",
       "  <th>Omnibus:</th>       <td> 6.166</td> <th>  Durbin-Watson:     </th> <td>   1.983</td>\n",
       "</tr>\n",
       "<tr>\n",
       "  <th>Prob(Omnibus):</th> <td> 0.046</td> <th>  Jarque-Bera (JB):  </th> <td>   6.066</td>\n",
       "</tr>\n",
       "<tr>\n",
       "  <th>Skew:</th>          <td>-0.455</td> <th>  Prob(JB):          </th> <td>  0.0482</td>\n",
       "</tr>\n",
       "<tr>\n",
       "  <th>Kurtosis:</th>      <td> 2.589</td> <th>  Cond. No.          </th> <td>1.59e+05</td>\n",
       "</tr>\n",
       "</table><br/><br/>Notes:<br/>[1] Standard Errors assume that the covariance matrix of the errors is correctly specified.<br/>[2] The condition number is large, 1.59e+05. This might indicate that there are<br/>strong multicollinearity or other numerical problems."
      ],
      "text/plain": [
       "<class 'statsmodels.iolib.summary.Summary'>\n",
       "\"\"\"\n",
       "                            OLS Regression Results                            \n",
       "==============================================================================\n",
       "Dep. Variable:               Life exp   R-squared:                       0.020\n",
       "Model:                            OLS   Adj. R-squared:                  0.014\n",
       "Method:                 Least Squares   F-statistic:                     2.992\n",
       "Date:                Sun, 05 Jun 2022   Prob (F-statistic):             0.0858\n",
       "Time:                        21:32:03   Log-Likelihood:                -505.22\n",
       "No. Observations:                 146   AIC:                             1014.\n",
       "Df Residuals:                     144   BIC:                             1020.\n",
       "Df Model:                           1                                         \n",
       "Covariance Type:            nonrobust                                         \n",
       "==============================================================================\n",
       "                 coef    std err          t      P>|t|      [0.025      0.975]\n",
       "------------------------------------------------------------------------------\n",
       "const         70.8839      0.650    109.061      0.000      69.599      72.169\n",
       "GDP         7.183e-06   4.15e-06      1.730      0.086   -1.02e-06    1.54e-05\n",
       "==============================================================================\n",
       "Omnibus:                        6.166   Durbin-Watson:                   1.983\n",
       "Prob(Omnibus):                  0.046   Jarque-Bera (JB):                6.066\n",
       "Skew:                          -0.455   Prob(JB):                       0.0482\n",
       "Kurtosis:                       2.589   Cond. No.                     1.59e+05\n",
       "==============================================================================\n",
       "\n",
       "Notes:\n",
       "[1] Standard Errors assume that the covariance matrix of the errors is correctly specified.\n",
       "[2] The condition number is large, 1.59e+05. This might indicate that there are\n",
       "strong multicollinearity or other numerical problems.\n",
       "\"\"\""
      ]
     },
     "execution_count": 15,
     "metadata": {},
     "output_type": "execute_result"
    }
   ],
   "source": [
    "x_train1, x_test1, y_train1, y_test1 = train_test_split(data[\"GDP\"],data[\"Life exp\"],test_size = 0.2, random_state = 3)\n",
    "\n",
    "X = sm.add_constant(x_train1)\n",
    "mod = sm.OLS(y_train1 , X)\n",
    "result = mod.fit()\n",
    "result.summary()"
   ]
  },
  {
   "cell_type": "code",
   "execution_count": 16,
   "id": "11e347c6",
   "metadata": {},
   "outputs": [
    {
     "name": "stdout",
     "output_type": "stream",
     "text": [
      "163    70.887822\n",
      "180    70.914350\n",
      "71     70.900571\n",
      "47     70.897239\n",
      "17     70.889494\n",
      "         ...    \n",
      "21     70.930785\n",
      "0      70.888060\n",
      "131    70.889427\n",
      "152    70.911480\n",
      "106    70.884091\n",
      "Length: 146, dtype: float64\n"
     ]
    },
    {
     "data": {
      "application/javascript": [
       "\n",
       "        if (window._pyforest_update_imports_cell) { window._pyforest_update_imports_cell('import pandas as pd\\nimport matplotlib.pyplot as plt\\nimport numpy as np'); }\n",
       "    "
      ],
      "text/plain": [
       "<IPython.core.display.Javascript object>"
      ]
     },
     "metadata": {},
     "output_type": "display_data"
    },
    {
     "data": {
      "text/plain": [
       "Text(0.5, 1.0, 'GDP vd life expectancy (original data)')"
      ]
     },
     "execution_count": 16,
     "metadata": {},
     "output_type": "execute_result"
    },
    {
     "data": {
      "image/png": "[encoded data removed]",
      "text/plain": [
       "<Figure size 432x360 with 1 Axes>"
      ]
     },
     "metadata": {
      "needs_background": "light"
     },
     "output_type": "display_data"
    }
   ],
   "source": [
    "y_pred = result.predict(X)\n",
    "print(y_pred)\n",
    "\n",
    "fig = plt.figure(figsize = (6,5))\n",
    "axes = fig.add_axes([0.1,0.1,0.9,0.9])\n",
    "axes.scatter(x_train1,y_train1)\n",
    "axes.plot(x_train1,y_pred,color = \"red\")\n",
    "axes.set_xlabel(\"GDP\")\n",
    "axes.set_ylabel(\"Life expectancy\")\n",
    "axes.set_title(\"GDP vd life expectancy (original data)\")"
   ]
  },
  {
   "cell_type": "markdown",
   "id": "d2ce5d83",
   "metadata": {},
   "source": [
    "##### dataset after removing suspected irregular points"
   ]
  },
  {
   "cell_type": "code",
   "execution_count": 17,
   "id": "dada488e",
   "metadata": {},
   "outputs": [
    {
     "data": {
      "text/html": [
       "<table class=\"simpletable\">\n",
       "<caption>OLS Regression Results</caption>\n",
       "<tr>\n",
       "  <th>Dep. Variable:</th>        <td>Life exp</td>     <th>  R-squared:         </th> <td>   0.172</td>\n",
       "</tr>\n",
       "<tr>\n",
       "  <th>Model:</th>                   <td>OLS</td>       <th>  Adj. R-squared:    </th> <td>   0.165</td>\n",
       "</tr>\n",
       "<tr>\n",
       "  <th>Method:</th>             <td>Least Squares</td>  <th>  F-statistic:       </th> <td>   26.29</td>\n",
       "</tr>\n",
       "<tr>\n",
       "  <th>Date:</th>             <td>Sun, 05 Jun 2022</td> <th>  Prob (F-statistic):</th> <td>1.07e-06</td>\n",
       "</tr>\n",
       "<tr>\n",
       "  <th>Time:</th>                 <td>21:32:06</td>     <th>  Log-Likelihood:    </th> <td> -439.20</td>\n",
       "</tr>\n",
       "<tr>\n",
       "  <th>No. Observations:</th>      <td>   129</td>      <th>  AIC:               </th> <td>   882.4</td>\n",
       "</tr>\n",
       "<tr>\n",
       "  <th>Df Residuals:</th>          <td>   127</td>      <th>  BIC:               </th> <td>   888.1</td>\n",
       "</tr>\n",
       "<tr>\n",
       "  <th>Df Model:</th>              <td>     1</td>      <th>                     </th>     <td> </td>   \n",
       "</tr>\n",
       "<tr>\n",
       "  <th>Covariance Type:</th>      <td>nonrobust</td>    <th>                     </th>     <td> </td>   \n",
       "</tr>\n",
       "</table>\n",
       "<table class=\"simpletable\">\n",
       "<tr>\n",
       "    <td></td>       <th>coef</th>     <th>std err</th>      <th>t</th>      <th>P>|t|</th>  <th>[0.025</th>    <th>0.975]</th>  \n",
       "</tr>\n",
       "<tr>\n",
       "  <th>const</th> <td>   67.5329</td> <td>    0.863</td> <td>   78.270</td> <td> 0.000</td> <td>   65.826</td> <td>   69.240</td>\n",
       "</tr>\n",
       "<tr>\n",
       "  <th>GDP</th>   <td>    0.0008</td> <td>    0.000</td> <td>    5.128</td> <td> 0.000</td> <td>    0.000</td> <td>    0.001</td>\n",
       "</tr>\n",
       "</table>\n",
       "<table class=\"simpletable\">\n",
       "<tr>\n",
       "  <th>Omnibus:</th>       <td> 0.820</td> <th>  Durbin-Watson:     </th> <td>   1.909</td>\n",
       "</tr>\n",
       "<tr>\n",
       "  <th>Prob(Omnibus):</th> <td> 0.663</td> <th>  Jarque-Bera (JB):  </th> <td>   0.911</td>\n",
       "</tr>\n",
       "<tr>\n",
       "  <th>Skew:</th>          <td>-0.104</td> <th>  Prob(JB):          </th> <td>   0.634</td>\n",
       "</tr>\n",
       "<tr>\n",
       "  <th>Kurtosis:</th>      <td> 2.644</td> <th>  Cond. No.          </th> <td>7.71e+03</td>\n",
       "</tr>\n",
       "</table><br/><br/>Notes:<br/>[1] Standard Errors assume that the covariance matrix of the errors is correctly specified.<br/>[2] The condition number is large, 7.71e+03. This might indicate that there are<br/>strong multicollinearity or other numerical problems."
      ],
      "text/plain": [
       "<class 'statsmodels.iolib.summary.Summary'>\n",
       "\"\"\"\n",
       "                            OLS Regression Results                            \n",
       "==============================================================================\n",
       "Dep. Variable:               Life exp   R-squared:                       0.172\n",
       "Model:                            OLS   Adj. R-squared:                  0.165\n",
       "Method:                 Least Squares   F-statistic:                     26.29\n",
       "Date:                Sun, 05 Jun 2022   Prob (F-statistic):           1.07e-06\n",
       "Time:                        21:32:06   Log-Likelihood:                -439.20\n",
       "No. Observations:                 129   AIC:                             882.4\n",
       "Df Residuals:                     127   BIC:                             888.1\n",
       "Df Model:                           1                                         \n",
       "Covariance Type:            nonrobust                                         \n",
       "==============================================================================\n",
       "                 coef    std err          t      P>|t|      [0.025      0.975]\n",
       "------------------------------------------------------------------------------\n",
       "const         67.5329      0.863     78.270      0.000      65.826      69.240\n",
       "GDP            0.0008      0.000      5.128      0.000       0.000       0.001\n",
       "==============================================================================\n",
       "Omnibus:                        0.820   Durbin-Watson:                   1.909\n",
       "Prob(Omnibus):                  0.663   Jarque-Bera (JB):                0.911\n",
       "Skew:                          -0.104   Prob(JB):                        0.634\n",
       "Kurtosis:                       2.644   Cond. No.                     7.71e+03\n",
       "==============================================================================\n",
       "\n",
       "Notes:\n",
       "[1] Standard Errors assume that the covariance matrix of the errors is correctly specified.\n",
       "[2] The condition number is large, 7.71e+03. This might indicate that there are\n",
       "strong multicollinearity or other numerical problems.\n",
       "\"\"\""
      ]
     },
     "execution_count": 17,
     "metadata": {},
     "output_type": "execute_result"
    }
   ],
   "source": [
    "x_train1, x_test1, y_train1, y_test1 = train_test_split(data1[\"GDP\"],data1[\"Life exp\"],test_size = 0.2, random_state = 3)\n",
    "\n",
    "X = sm.add_constant(x_train1)\n",
    "mod = sm.OLS(y_train1 , X)\n",
    "result = mod.fit()\n",
    "result.summary()"
   ]
  },
  {
   "cell_type": "code",
   "execution_count": 18,
   "id": "baa39a19",
   "metadata": {},
   "outputs": [
    {
     "name": "stdout",
     "output_type": "stream",
     "text": [
      "15     70.869498\n",
      "17     68.133291\n",
      "27     71.041489\n",
      "42     69.351831\n",
      "143    67.982877\n",
      "         ...    \n",
      "24     72.888651\n",
      "0      67.980366\n",
      "147    69.005147\n",
      "170    69.160032\n",
      "119    73.242282\n",
      "Length: 129, dtype: float64\n"
     ]
    },
    {
     "data": {
      "application/javascript": [
       "\n",
       "        if (window._pyforest_update_imports_cell) { window._pyforest_update_imports_cell('import pandas as pd\\nimport matplotlib.pyplot as plt\\nimport numpy as np'); }\n",
       "    "
      ],
      "text/plain": [
       "<IPython.core.display.Javascript object>"
      ]
     },
     "metadata": {},
     "output_type": "display_data"
    },
    {
     "data": {
      "text/plain": [
       "Text(0.5, 1.0, 'GDP vd life expectancy (data without the suspected irregular points)')"
      ]
     },
     "execution_count": 18,
     "metadata": {},
     "output_type": "execute_result"
    },
    {
     "data": {
      "image/png": "[encoded data removed]",
      "text/plain": [
       "<Figure size 432x360 with 1 Axes>"
      ]
     },
     "metadata": {
      "needs_background": "light"
     },
     "output_type": "display_data"
    }
   ],
   "source": [
    "y_pred = result.predict(X)\n",
    "print(y_pred)\n",
    "\n",
    "fig = plt.figure(figsize = (6,5))\n",
    "axes = fig.add_axes([0.1,0.1,0.9,0.9])\n",
    "axes.scatter(x_train1,y_train1)\n",
    "axes.plot(x_train1,y_pred,color = \"red\")\n",
    "axes.set_xlabel(\"GDP\")\n",
    "axes.set_ylabel(\"Life expectancy\")\n",
    "axes.set_title(\"GDP vd life expectancy (data without the suspected irregular points)\")"
   ]
  },
  {
   "cell_type": "markdown",
   "id": "eead4c4d",
   "metadata": {},
   "source": [
    "#### Q2 - Study Standardized and Studentized Residuals and comment."
   ]
  },
  {
   "cell_type": "markdown",
   "id": "e1bd489e",
   "metadata": {},
   "source": [
    "##### done for the model fitted on the dataset after removing the irregular points"
   ]
  },
  {
   "cell_type": "code",
   "execution_count": 19,
   "id": "d3a22d7a",
   "metadata": {},
   "outputs": [
    {
     "data": {
      "text/html": [
       "<div>\n",
       "<style scoped>\n",
       "    .dataframe tbody tr th:only-of-type {\n",
       "        vertical-align: middle;\n",
       "    }\n",
       "\n",
       "    .dataframe tbody tr th {\n",
       "        vertical-align: top;\n",
       "    }\n",
       "\n",
       "    .dataframe thead th {\n",
       "        text-align: right;\n",
       "    }\n",
       "</style>\n",
       "<table border=\"1\" class=\"dataframe\">\n",
       "  <thead>\n",
       "    <tr style=\"text-align: right;\">\n",
       "      <th></th>\n",
       "      <th>dfb_const</th>\n",
       "      <th>dfb_GDP</th>\n",
       "      <th>cooks_d</th>\n",
       "      <th>standard_resid</th>\n",
       "      <th>hat_diag</th>\n",
       "      <th>dffits_internal</th>\n",
       "      <th>student_resid</th>\n",
       "      <th>dffits</th>\n",
       "    </tr>\n",
       "  </thead>\n",
       "  <tbody>\n",
       "    <tr>\n",
       "      <th>15</th>\n",
       "      <td>0.082929</td>\n",
       "      <td>0.015203</td>\n",
       "      <td>0.007761</td>\n",
       "      <td>1.399010</td>\n",
       "      <td>0.007868</td>\n",
       "      <td>0.124587</td>\n",
       "      <td>1.404355</td>\n",
       "      <td>0.125063</td>\n",
       "    </tr>\n",
       "    <tr>\n",
       "      <th>17</th>\n",
       "      <td>-0.119999</td>\n",
       "      <td>0.069444</td>\n",
       "      <td>0.007276</td>\n",
       "      <td>-1.114307</td>\n",
       "      <td>0.011583</td>\n",
       "      <td>-0.120629</td>\n",
       "      <td>-1.115377</td>\n",
       "      <td>-0.120745</td>\n",
       "    </tr>\n",
       "    <tr>\n",
       "      <th>27</th>\n",
       "      <td>-0.138626</td>\n",
       "      <td>-0.038143</td>\n",
       "      <td>0.023700</td>\n",
       "      <td>-2.426276</td>\n",
       "      <td>0.007988</td>\n",
       "      <td>-0.217716</td>\n",
       "      <td>-2.474741</td>\n",
       "      <td>-0.222065</td>\n",
       "    </tr>\n",
       "    <tr>\n",
       "      <th>42</th>\n",
       "      <td>0.186539</td>\n",
       "      <td>-0.064413</td>\n",
       "      <td>0.019932</td>\n",
       "      <td>2.140686</td>\n",
       "      <td>0.008624</td>\n",
       "      <td>0.199659</td>\n",
       "      <td>2.171784</td>\n",
       "      <td>0.202559</td>\n",
       "    </tr>\n",
       "    <tr>\n",
       "      <th>143</th>\n",
       "      <td>-0.261272</td>\n",
       "      <td>0.157072</td>\n",
       "      <td>0.033155</td>\n",
       "      <td>-2.327352</td>\n",
       "      <td>0.012094</td>\n",
       "      <td>-0.257507</td>\n",
       "      <td>-2.369246</td>\n",
       "      <td>-0.262142</td>\n",
       "    </tr>\n",
       "    <tr>\n",
       "      <th>...</th>\n",
       "      <td>...</td>\n",
       "      <td>...</td>\n",
       "      <td>...</td>\n",
       "      <td>...</td>\n",
       "      <td>...</td>\n",
       "      <td>...</td>\n",
       "      <td>...</td>\n",
       "      <td>...</td>\n",
       "    </tr>\n",
       "    <tr>\n",
       "      <th>24</th>\n",
       "      <td>0.005154</td>\n",
       "      <td>0.014255</td>\n",
       "      <td>0.000294</td>\n",
       "      <td>0.220799</td>\n",
       "      <td>0.011901</td>\n",
       "      <td>0.024233</td>\n",
       "      <td>0.219971</td>\n",
       "      <td>0.024142</td>\n",
       "    </tr>\n",
       "    <tr>\n",
       "      <th>0</th>\n",
       "      <td>-0.044911</td>\n",
       "      <td>0.027016</td>\n",
       "      <td>0.001022</td>\n",
       "      <td>-0.408434</td>\n",
       "      <td>0.012103</td>\n",
       "      <td>-0.045207</td>\n",
       "      <td>-0.407091</td>\n",
       "      <td>-0.045059</td>\n",
       "    </tr>\n",
       "    <tr>\n",
       "      <th>147</th>\n",
       "      <td>0.002445</td>\n",
       "      <td>-0.001034</td>\n",
       "      <td>0.000003</td>\n",
       "      <td>0.026665</td>\n",
       "      <td>0.009253</td>\n",
       "      <td>0.002577</td>\n",
       "      <td>0.026559</td>\n",
       "      <td>0.002567</td>\n",
       "    </tr>\n",
       "    <tr>\n",
       "      <th>170</th>\n",
       "      <td>0.026051</td>\n",
       "      <td>-0.010147</td>\n",
       "      <td>0.000387</td>\n",
       "      <td>0.292798</td>\n",
       "      <td>0.008951</td>\n",
       "      <td>0.027826</td>\n",
       "      <td>0.291742</td>\n",
       "      <td>0.027726</td>\n",
       "    </tr>\n",
       "    <tr>\n",
       "      <th>119</th>\n",
       "      <td>0.020194</td>\n",
       "      <td>0.087318</td>\n",
       "      <td>0.009209</td>\n",
       "      <td>1.173416</td>\n",
       "      <td>0.013200</td>\n",
       "      <td>0.135713</td>\n",
       "      <td>1.175175</td>\n",
       "      <td>0.135917</td>\n",
       "    </tr>\n",
       "  </tbody>\n",
       "</table>\n",
       "<p>129 rows × 8 columns</p>\n",
       "</div>"
      ],
      "text/plain": [
       "     dfb_const   dfb_GDP   cooks_d  standard_resid  hat_diag  dffits_internal  \\\n",
       "15    0.082929  0.015203  0.007761        1.399010  0.007868         0.124587   \n",
       "17   -0.119999  0.069444  0.007276       -1.114307  0.011583        -0.120629   \n",
       "27   -0.138626 -0.038143  0.023700       -2.426276  0.007988        -0.217716   \n",
       "42    0.186539 -0.064413  0.019932        2.140686  0.008624         0.199659   \n",
       "143  -0.261272  0.157072  0.033155       -2.327352  0.012094        -0.257507   \n",
       "..         ...       ...       ...             ...       ...              ...   \n",
       "24    0.005154  0.014255  0.000294        0.220799  0.011901         0.024233   \n",
       "0    -0.044911  0.027016  0.001022       -0.408434  0.012103        -0.045207   \n",
       "147   0.002445 -0.001034  0.000003        0.026665  0.009253         0.002577   \n",
       "170   0.026051 -0.010147  0.000387        0.292798  0.008951         0.027826   \n",
       "119   0.020194  0.087318  0.009209        1.173416  0.013200         0.135713   \n",
       "\n",
       "     student_resid    dffits  \n",
       "15        1.404355  0.125063  \n",
       "17       -1.115377 -0.120745  \n",
       "27       -2.474741 -0.222065  \n",
       "42        2.171784  0.202559  \n",
       "143      -2.369246 -0.262142  \n",
       "..             ...       ...  \n",
       "24        0.219971  0.024142  \n",
       "0        -0.407091 -0.045059  \n",
       "147       0.026559  0.002567  \n",
       "170       0.291742  0.027726  \n",
       "119       1.175175  0.135917  \n",
       "\n",
       "[129 rows x 8 columns]"
      ]
     },
     "execution_count": 19,
     "metadata": {},
     "output_type": "execute_result"
    }
   ],
   "source": [
    "influence = result.get_influence()\n",
    "levg = influence.hat_matrix_diag\n",
    "levg\n",
    "inf_sum = influence.summary_frame()\n",
    "inf_sum"
   ]
  },
  {
   "cell_type": "code",
   "execution_count": 20,
   "id": "f798c086",
   "metadata": {},
   "outputs": [],
   "source": [
    "# OR"
   ]
  },
  {
   "cell_type": "code",
   "execution_count": 21,
   "id": "e326bc57",
   "metadata": {},
   "outputs": [
    {
     "data": {
      "application/javascript": [
       "\n",
       "        if (window._pyforest_update_imports_cell) { window._pyforest_update_imports_cell('import pandas as pd\\nimport matplotlib.pyplot as plt\\nimport numpy as np'); }\n",
       "    "
      ],
      "text/plain": [
       "<IPython.core.display.Javascript object>"
      ]
     },
     "metadata": {},
     "output_type": "display_data"
    },
    {
     "data": {
      "text/html": [
       "<div>\n",
       "<style scoped>\n",
       "    .dataframe tbody tr th:only-of-type {\n",
       "        vertical-align: middle;\n",
       "    }\n",
       "\n",
       "    .dataframe tbody tr th {\n",
       "        vertical-align: top;\n",
       "    }\n",
       "\n",
       "    .dataframe thead th {\n",
       "        text-align: right;\n",
       "    }\n",
       "</style>\n",
       "<table border=\"1\" class=\"dataframe\">\n",
       "  <thead>\n",
       "    <tr style=\"text-align: right;\">\n",
       "      <th></th>\n",
       "      <th>Standardized residuals</th>\n",
       "      <th>Studentized residuals</th>\n",
       "    </tr>\n",
       "  </thead>\n",
       "  <tbody>\n",
       "    <tr>\n",
       "      <th>15</th>\n",
       "      <td>1.399010</td>\n",
       "      <td>1.404355</td>\n",
       "    </tr>\n",
       "    <tr>\n",
       "      <th>17</th>\n",
       "      <td>-1.114307</td>\n",
       "      <td>-1.115377</td>\n",
       "    </tr>\n",
       "    <tr>\n",
       "      <th>27</th>\n",
       "      <td>-2.426276</td>\n",
       "      <td>-2.474741</td>\n",
       "    </tr>\n",
       "    <tr>\n",
       "      <th>42</th>\n",
       "      <td>2.140686</td>\n",
       "      <td>2.171784</td>\n",
       "    </tr>\n",
       "    <tr>\n",
       "      <th>143</th>\n",
       "      <td>-2.327352</td>\n",
       "      <td>-2.369246</td>\n",
       "    </tr>\n",
       "    <tr>\n",
       "      <th>...</th>\n",
       "      <td>...</td>\n",
       "      <td>...</td>\n",
       "    </tr>\n",
       "    <tr>\n",
       "      <th>24</th>\n",
       "      <td>0.220799</td>\n",
       "      <td>0.219971</td>\n",
       "    </tr>\n",
       "    <tr>\n",
       "      <th>0</th>\n",
       "      <td>-0.408434</td>\n",
       "      <td>-0.407091</td>\n",
       "    </tr>\n",
       "    <tr>\n",
       "      <th>147</th>\n",
       "      <td>0.026665</td>\n",
       "      <td>0.026559</td>\n",
       "    </tr>\n",
       "    <tr>\n",
       "      <th>170</th>\n",
       "      <td>0.292798</td>\n",
       "      <td>0.291742</td>\n",
       "    </tr>\n",
       "    <tr>\n",
       "      <th>119</th>\n",
       "      <td>1.173416</td>\n",
       "      <td>1.175175</td>\n",
       "    </tr>\n",
       "  </tbody>\n",
       "</table>\n",
       "<p>129 rows × 2 columns</p>\n",
       "</div>"
      ],
      "text/plain": [
       "     Standardized residuals  Studentized residuals\n",
       "15                 1.399010               1.404355\n",
       "17                -1.114307              -1.115377\n",
       "27                -2.426276              -2.474741\n",
       "42                 2.140686               2.171784\n",
       "143               -2.327352              -2.369246\n",
       "..                      ...                    ...\n",
       "24                 0.220799               0.219971\n",
       "0                 -0.408434              -0.407091\n",
       "147                0.026665               0.026559\n",
       "170                0.292798               0.291742\n",
       "119                1.173416               1.175175\n",
       "\n",
       "[129 rows x 2 columns]"
      ]
     },
     "execution_count": 21,
     "metadata": {},
     "output_type": "execute_result"
    }
   ],
   "source": [
    "# Standardised Residual\n",
    "\n",
    "influence = result.get_influence()\n",
    "stand_res = influence.resid_studentized_internal\n",
    "stand_res\n",
    "\n",
    "# Studentised Residual\n",
    "\n",
    "stud_res = result.outlier_test()    #or influence.resid_studentized_external\n",
    "stud_res\n",
    "sr = stud_res[\"student_resid\"]\n",
    "\n",
    "dict1 = {\"Standardized residuals\":stand_res , \"Studentized residuals\":sr}\n",
    "pd.DataFrame(dict1)"
   ]
  },
  {
   "cell_type": "code",
   "execution_count": 22,
   "id": "c08244ec",
   "metadata": {},
   "outputs": [
    {
     "data": {
      "application/javascript": [
       "\n",
       "        if (window._pyforest_update_imports_cell) { window._pyforest_update_imports_cell('import pandas as pd\\nimport matplotlib.pyplot as plt\\nimport numpy as np'); }\n",
       "    "
      ],
      "text/plain": [
       "<IPython.core.display.Javascript object>"
      ]
     },
     "metadata": {},
     "output_type": "display_data"
    },
    {
     "data": {
      "application/javascript": [
       "\n",
       "        if (window._pyforest_update_imports_cell) { window._pyforest_update_imports_cell('import pandas as pd\\nimport matplotlib.pyplot as plt\\nimport numpy as np'); }\n",
       "    "
      ],
      "text/plain": [
       "<IPython.core.display.Javascript object>"
      ]
     },
     "metadata": {},
     "output_type": "display_data"
    },
    {
     "name": "stdout",
     "output_type": "stream",
     "text": [
      "The values that are suspected to be irregular from the other standardised residuals are []\n",
      "0\n"
     ]
    }
   ],
   "source": [
    "# removing all the stand. res values that life outside the range (Q1 - 1.5*iqr) = r1,(Q3 + 1.5*iqr) = r2\n",
    "\n",
    "Q1 = np.percentile(stand_res,25)\n",
    "Q3 = np.percentile(stand_res,75)\n",
    "iqr = Q3-Q1\n",
    "\n",
    "r1 = (Q1 - (1.5*iqr))\n",
    "r2 = (Q3 + (1.5*iqr))\n",
    "\n",
    "L1 = []\n",
    "L2 = []\n",
    "for i in stand_res:\n",
    "    if r1<i<r2:\n",
    "        L1.append(i)\n",
    "    else:\n",
    "        L2.append(i)\n",
    "print(\"The values that are suspected to be irregular from the other standardised residuals are\",L2)\n",
    "print(len(L2))"
   ]
  },
  {
   "cell_type": "code",
   "execution_count": 23,
   "id": "a6a23565",
   "metadata": {},
   "outputs": [
    {
     "data": {
      "application/javascript": [
       "\n",
       "        if (window._pyforest_update_imports_cell) { window._pyforest_update_imports_cell('import pandas as pd\\nimport matplotlib.pyplot as plt\\nimport numpy as np'); }\n",
       "    "
      ],
      "text/plain": [
       "<IPython.core.display.Javascript object>"
      ]
     },
     "metadata": {},
     "output_type": "display_data"
    },
    {
     "data": {
      "application/javascript": [
       "\n",
       "        if (window._pyforest_update_imports_cell) { window._pyforest_update_imports_cell('import pandas as pd\\nimport matplotlib.pyplot as plt\\nimport numpy as np'); }\n",
       "    "
      ],
      "text/plain": [
       "<IPython.core.display.Javascript object>"
      ]
     },
     "metadata": {},
     "output_type": "display_data"
    },
    {
     "data": {
      "application/javascript": [
       "\n",
       "        if (window._pyforest_update_imports_cell) { window._pyforest_update_imports_cell('import pandas as pd\\nimport matplotlib.pyplot as plt\\nimport numpy as np'); }\n",
       "    "
      ],
      "text/plain": [
       "<IPython.core.display.Javascript object>"
      ]
     },
     "metadata": {},
     "output_type": "display_data"
    },
    {
     "data": {
      "text/html": [
       "<div>\n",
       "<style scoped>\n",
       "    .dataframe tbody tr th:only-of-type {\n",
       "        vertical-align: middle;\n",
       "    }\n",
       "\n",
       "    .dataframe tbody tr th {\n",
       "        vertical-align: top;\n",
       "    }\n",
       "\n",
       "    .dataframe thead th {\n",
       "        text-align: right;\n",
       "    }\n",
       "</style>\n",
       "<table border=\"1\" class=\"dataframe\">\n",
       "  <thead>\n",
       "    <tr style=\"text-align: right;\">\n",
       "      <th></th>\n",
       "      <th>Suspected outliers</th>\n",
       "    </tr>\n",
       "  </thead>\n",
       "  <tbody>\n",
       "    <tr>\n",
       "      <th>0</th>\n",
       "      <td>1.399010</td>\n",
       "    </tr>\n",
       "    <tr>\n",
       "      <th>1</th>\n",
       "      <td>-1.114307</td>\n",
       "    </tr>\n",
       "    <tr>\n",
       "      <th>2</th>\n",
       "      <td>-2.426276</td>\n",
       "    </tr>\n",
       "    <tr>\n",
       "      <th>3</th>\n",
       "      <td>2.140686</td>\n",
       "    </tr>\n",
       "    <tr>\n",
       "      <th>4</th>\n",
       "      <td>-2.327352</td>\n",
       "    </tr>\n",
       "    <tr>\n",
       "      <th>...</th>\n",
       "      <td>...</td>\n",
       "    </tr>\n",
       "    <tr>\n",
       "      <th>61</th>\n",
       "      <td>-1.915067</td>\n",
       "    </tr>\n",
       "    <tr>\n",
       "      <th>62</th>\n",
       "      <td>0.923811</td>\n",
       "    </tr>\n",
       "    <tr>\n",
       "      <th>63</th>\n",
       "      <td>-1.509119</td>\n",
       "    </tr>\n",
       "    <tr>\n",
       "      <th>64</th>\n",
       "      <td>-1.365350</td>\n",
       "    </tr>\n",
       "    <tr>\n",
       "      <th>65</th>\n",
       "      <td>1.173416</td>\n",
       "    </tr>\n",
       "  </tbody>\n",
       "</table>\n",
       "<p>66 rows × 1 columns</p>\n",
       "</div>"
      ],
      "text/plain": [
       "    Suspected outliers\n",
       "0             1.399010\n",
       "1            -1.114307\n",
       "2            -2.426276\n",
       "3             2.140686\n",
       "4            -2.327352\n",
       "..                 ...\n",
       "61           -1.915067\n",
       "62            0.923811\n",
       "63           -1.509119\n",
       "64           -1.365350\n",
       "65            1.173416\n",
       "\n",
       "[66 rows x 1 columns]"
      ]
     },
     "execution_count": 23,
     "metadata": {},
     "output_type": "execute_result"
    }
   ],
   "source": [
    "# removing all the stand. res values that life outside the interquartile range\n",
    "\n",
    "L1 = []\n",
    "L2 = []\n",
    "for i in stand_res:\n",
    "    if Q1<i<Q3:\n",
    "        L1.append(i)\n",
    "    else:\n",
    "        L2.append(i)\n",
    "#print(\"The values that are suspected to be irregular from the other standardised residuals are\",L2)\n",
    "#print(len(L2))\n",
    "\n",
    "a2 = np.array(L2)\n",
    "pd.DataFrame(a2,[np.arange(66)],[\"Suspected outliers\"])"
   ]
  },
  {
   "cell_type": "markdown",
   "id": "76f810df",
   "metadata": {},
   "source": [
    "##### checking for presence of outliers from stud, stand residuals"
   ]
  },
  {
   "cell_type": "markdown",
   "id": "e76bd859",
   "metadata": {},
   "source": [
    "##### plotting predicted y vs stud/stand res "
   ]
  },
  {
   "cell_type": "code",
   "execution_count": 24,
   "id": "d0cfb834",
   "metadata": {},
   "outputs": [
    {
     "name": "stdout",
     "output_type": "stream",
     "text": [
      "15     70.869498\n",
      "17     68.133291\n",
      "27     71.041489\n",
      "42     69.351831\n",
      "143    67.982877\n",
      "         ...    \n",
      "24     72.888651\n",
      "0      67.980366\n",
      "147    69.005147\n",
      "170    69.160032\n",
      "119    73.242282\n",
      "Length: 129, dtype: float64\n"
     ]
    },
    {
     "data": {
      "application/javascript": [
       "\n",
       "        if (window._pyforest_update_imports_cell) { window._pyforest_update_imports_cell('import pandas as pd\\nimport matplotlib.pyplot as plt\\nimport numpy as np'); }\n",
       "    "
      ],
      "text/plain": [
       "<IPython.core.display.Javascript object>"
      ]
     },
     "metadata": {},
     "output_type": "display_data"
    },
    {
     "data": {
      "text/plain": [
       "Text(0, 0.5, 'Standardized Residuals')"
      ]
     },
     "execution_count": 24,
     "metadata": {},
     "output_type": "execute_result"
    },
    {
     "data": {
      "image/png": "[encoded data removed]",
      "text/plain": [
       "<Figure size 1440x504 with 2 Axes>"
      ]
     },
     "metadata": {
      "needs_background": "light"
     },
     "output_type": "display_data"
    }
   ],
   "source": [
    "y_pred = result.predict(X)\n",
    "print(y_pred)\n",
    "sr\n",
    "# scatterplot of predictor variable vs. studentized residuals\n",
    "# scatterplot of predictor variable vs. standardized residuals\n",
    "\n",
    "fig , axes = plt.subplots(figsize = (20,7), nrows = 1 , ncols = 2)\n",
    "axes[0].scatter(y_pred, sr)\n",
    "axes[1].scatter(y_pred, stand_res,color = \"yellow\")\n",
    "axes[0].axhline(y=0, color='black')\n",
    "axes[1].axhline(y=0, color='black')\n",
    "axes[0].set_xlabel('Predicted life expectancy')\n",
    "axes[1].set_xlabel('Predicted life expectancy')\n",
    "axes[0].set_ylabel('Studentized Residuals') \n",
    "axes[1].set_ylabel('Standardized Residuals') "
   ]
  },
  {
   "cell_type": "markdown",
   "id": "b98eab4d",
   "metadata": {},
   "source": [
    "#### Q3 - Obtain the DFBETAs and DFFITs. Also Calculate Cook’s distance and comment."
   ]
  },
  {
   "cell_type": "code",
   "execution_count": 25,
   "id": "d118f76d",
   "metadata": {},
   "outputs": [
    {
     "data": {
      "text/html": [
       "<div>\n",
       "<style scoped>\n",
       "    .dataframe tbody tr th:only-of-type {\n",
       "        vertical-align: middle;\n",
       "    }\n",
       "\n",
       "    .dataframe tbody tr th {\n",
       "        vertical-align: top;\n",
       "    }\n",
       "\n",
       "    .dataframe thead th {\n",
       "        text-align: right;\n",
       "    }\n",
       "</style>\n",
       "<table border=\"1\" class=\"dataframe\">\n",
       "  <thead>\n",
       "    <tr style=\"text-align: right;\">\n",
       "      <th></th>\n",
       "      <th>dfb_const</th>\n",
       "      <th>dfb_GDP</th>\n",
       "      <th>cooks_d</th>\n",
       "      <th>standard_resid</th>\n",
       "      <th>hat_diag</th>\n",
       "      <th>dffits_internal</th>\n",
       "      <th>student_resid</th>\n",
       "      <th>dffits</th>\n",
       "    </tr>\n",
       "  </thead>\n",
       "  <tbody>\n",
       "    <tr>\n",
       "      <th>15</th>\n",
       "      <td>0.082929</td>\n",
       "      <td>0.015203</td>\n",
       "      <td>0.007761</td>\n",
       "      <td>1.399010</td>\n",
       "      <td>0.007868</td>\n",
       "      <td>0.124587</td>\n",
       "      <td>1.404355</td>\n",
       "      <td>0.125063</td>\n",
       "    </tr>\n",
       "    <tr>\n",
       "      <th>17</th>\n",
       "      <td>-0.119999</td>\n",
       "      <td>0.069444</td>\n",
       "      <td>0.007276</td>\n",
       "      <td>-1.114307</td>\n",
       "      <td>0.011583</td>\n",
       "      <td>-0.120629</td>\n",
       "      <td>-1.115377</td>\n",
       "      <td>-0.120745</td>\n",
       "    </tr>\n",
       "    <tr>\n",
       "      <th>27</th>\n",
       "      <td>-0.138626</td>\n",
       "      <td>-0.038143</td>\n",
       "      <td>0.023700</td>\n",
       "      <td>-2.426276</td>\n",
       "      <td>0.007988</td>\n",
       "      <td>-0.217716</td>\n",
       "      <td>-2.474741</td>\n",
       "      <td>-0.222065</td>\n",
       "    </tr>\n",
       "    <tr>\n",
       "      <th>42</th>\n",
       "      <td>0.186539</td>\n",
       "      <td>-0.064413</td>\n",
       "      <td>0.019932</td>\n",
       "      <td>2.140686</td>\n",
       "      <td>0.008624</td>\n",
       "      <td>0.199659</td>\n",
       "      <td>2.171784</td>\n",
       "      <td>0.202559</td>\n",
       "    </tr>\n",
       "    <tr>\n",
       "      <th>143</th>\n",
       "      <td>-0.261272</td>\n",
       "      <td>0.157072</td>\n",
       "      <td>0.033155</td>\n",
       "      <td>-2.327352</td>\n",
       "      <td>0.012094</td>\n",
       "      <td>-0.257507</td>\n",
       "      <td>-2.369246</td>\n",
       "      <td>-0.262142</td>\n",
       "    </tr>\n",
       "  </tbody>\n",
       "</table>\n",
       "</div>"
      ],
      "text/plain": [
       "     dfb_const   dfb_GDP   cooks_d  standard_resid  hat_diag  dffits_internal  \\\n",
       "15    0.082929  0.015203  0.007761        1.399010  0.007868         0.124587   \n",
       "17   -0.119999  0.069444  0.007276       -1.114307  0.011583        -0.120629   \n",
       "27   -0.138626 -0.038143  0.023700       -2.426276  0.007988        -0.217716   \n",
       "42    0.186539 -0.064413  0.019932        2.140686  0.008624         0.199659   \n",
       "143  -0.261272  0.157072  0.033155       -2.327352  0.012094        -0.257507   \n",
       "\n",
       "     student_resid    dffits  \n",
       "15        1.404355  0.125063  \n",
       "17       -1.115377 -0.120745  \n",
       "27       -2.474741 -0.222065  \n",
       "42        2.171784  0.202559  \n",
       "143      -2.369246 -0.262142  "
      ]
     },
     "execution_count": 25,
     "metadata": {},
     "output_type": "execute_result"
    }
   ],
   "source": [
    "inf_sum.head()"
   ]
  },
  {
   "cell_type": "code",
   "execution_count": 26,
   "id": "d52c34b4",
   "metadata": {},
   "outputs": [
    {
     "data": {
      "application/javascript": [
       "\n",
       "        if (window._pyforest_update_imports_cell) { window._pyforest_update_imports_cell('import pandas as pd\\nimport matplotlib.pyplot as plt\\nimport numpy as np'); }\n",
       "    "
      ],
      "text/plain": [
       "<IPython.core.display.Javascript object>"
      ]
     },
     "metadata": {},
     "output_type": "display_data"
    },
    {
     "data": {
      "text/html": [
       "<div>\n",
       "<style scoped>\n",
       "    .dataframe tbody tr th:only-of-type {\n",
       "        vertical-align: middle;\n",
       "    }\n",
       "\n",
       "    .dataframe tbody tr th {\n",
       "        vertical-align: top;\n",
       "    }\n",
       "\n",
       "    .dataframe thead th {\n",
       "        text-align: right;\n",
       "    }\n",
       "</style>\n",
       "<table border=\"1\" class=\"dataframe\">\n",
       "  <thead>\n",
       "    <tr style=\"text-align: right;\">\n",
       "      <th></th>\n",
       "      <th>DFBETAS (before the ith element is removed)</th>\n",
       "      <th>DFBETAS (after the ith element is removed)</th>\n",
       "    </tr>\n",
       "  </thead>\n",
       "  <tbody>\n",
       "    <tr>\n",
       "      <th>15</th>\n",
       "      <td>0.082929</td>\n",
       "      <td>0.015203</td>\n",
       "    </tr>\n",
       "    <tr>\n",
       "      <th>17</th>\n",
       "      <td>-0.119999</td>\n",
       "      <td>0.069444</td>\n",
       "    </tr>\n",
       "    <tr>\n",
       "      <th>27</th>\n",
       "      <td>-0.138626</td>\n",
       "      <td>-0.038143</td>\n",
       "    </tr>\n",
       "    <tr>\n",
       "      <th>42</th>\n",
       "      <td>0.186539</td>\n",
       "      <td>-0.064413</td>\n",
       "    </tr>\n",
       "    <tr>\n",
       "      <th>143</th>\n",
       "      <td>-0.261272</td>\n",
       "      <td>0.157072</td>\n",
       "    </tr>\n",
       "    <tr>\n",
       "      <th>...</th>\n",
       "      <td>...</td>\n",
       "      <td>...</td>\n",
       "    </tr>\n",
       "    <tr>\n",
       "      <th>24</th>\n",
       "      <td>0.005154</td>\n",
       "      <td>0.014255</td>\n",
       "    </tr>\n",
       "    <tr>\n",
       "      <th>0</th>\n",
       "      <td>-0.044911</td>\n",
       "      <td>0.027016</td>\n",
       "    </tr>\n",
       "    <tr>\n",
       "      <th>147</th>\n",
       "      <td>0.002445</td>\n",
       "      <td>-0.001034</td>\n",
       "    </tr>\n",
       "    <tr>\n",
       "      <th>170</th>\n",
       "      <td>0.026051</td>\n",
       "      <td>-0.010147</td>\n",
       "    </tr>\n",
       "    <tr>\n",
       "      <th>119</th>\n",
       "      <td>0.020194</td>\n",
       "      <td>0.087318</td>\n",
       "    </tr>\n",
       "  </tbody>\n",
       "</table>\n",
       "<p>129 rows × 2 columns</p>\n",
       "</div>"
      ],
      "text/plain": [
       "     DFBETAS (before the ith element is removed)  \\\n",
       "15                                      0.082929   \n",
       "17                                     -0.119999   \n",
       "27                                     -0.138626   \n",
       "42                                      0.186539   \n",
       "143                                    -0.261272   \n",
       "..                                           ...   \n",
       "24                                      0.005154   \n",
       "0                                      -0.044911   \n",
       "147                                     0.002445   \n",
       "170                                     0.026051   \n",
       "119                                     0.020194   \n",
       "\n",
       "     DFBETAS (after the ith element is removed)  \n",
       "15                                     0.015203  \n",
       "17                                     0.069444  \n",
       "27                                    -0.038143  \n",
       "42                                    -0.064413  \n",
       "143                                    0.157072  \n",
       "..                                          ...  \n",
       "24                                     0.014255  \n",
       "0                                      0.027016  \n",
       "147                                   -0.001034  \n",
       "170                                   -0.010147  \n",
       "119                                    0.087318  \n",
       "\n",
       "[129 rows x 2 columns]"
      ]
     },
     "execution_count": 26,
     "metadata": {},
     "output_type": "execute_result"
    }
   ],
   "source": [
    "# DFBETAS\n",
    "dict3 = {\"DFBETAS (before the ith element is removed)\":inf_sum[\"dfb_const\"] , \"DFBETAS (after the ith element is removed)\":inf_sum[\"dfb_GDP\"]}\n",
    "pd.DataFrame(dict3)"
   ]
  },
  {
   "cell_type": "code",
   "execution_count": 27,
   "id": "70ac16c2",
   "metadata": {},
   "outputs": [],
   "source": [
    "#OR"
   ]
  },
  {
   "cell_type": "code",
   "execution_count": 28,
   "id": "ac6aa10b",
   "metadata": {
    "scrolled": false
   },
   "outputs": [],
   "source": [
    "influence = result.get_influence()\n",
    "dfbetas = influence.dfbetas\n",
    "dffits = influence.dffits\n",
    "cd = influence.cooks_distance\n",
    "\n",
    "#print(\"DFBETAS (j,i)\")\n",
    "#print(dfbetas)\n",
    "#print(\"DFFITS\")\n",
    "#print(dffits)\n",
    "#print(\"COOK'S DISTANCE\")\n",
    "#print(cd)"
   ]
  },
  {
   "cell_type": "code",
   "execution_count": 29,
   "id": "7a5e7488",
   "metadata": {},
   "outputs": [],
   "source": [
    "levg = inf_sum[\"hat_diag\"]"
   ]
  },
  {
   "cell_type": "code",
   "execution_count": 30,
   "id": "690bd958",
   "metadata": {},
   "outputs": [
    {
     "data": {
      "application/javascript": [
       "\n",
       "        if (window._pyforest_update_imports_cell) { window._pyforest_update_imports_cell('import pandas as pd\\nimport matplotlib.pyplot as plt\\nimport numpy as np'); }\n",
       "    "
      ],
      "text/plain": [
       "<IPython.core.display.Javascript object>"
      ]
     },
     "metadata": {},
     "output_type": "display_data"
    },
    {
     "name": "stdout",
     "output_type": "stream",
     "text": [
      "FINDING LEVERAGE POINTS\n",
      "     hat_diag\n",
      "15        NaN\n",
      "17        NaN\n",
      "27        NaN\n",
      "42        NaN\n",
      "143       NaN\n",
      "..        ...\n",
      "24        NaN\n",
      "0         NaN\n",
      "147       NaN\n",
      "170       NaN\n",
      "119    0.0132\n",
      "\n",
      "[129 rows x 1 columns]\n",
      "\n",
      "\n",
      "FINDING INFLUENTIAL POINTS\n"
     ]
    },
    {
     "data": {
      "application/javascript": [
       "\n",
       "        if (window._pyforest_update_imports_cell) { window._pyforest_update_imports_cell('import pandas as pd\\nimport matplotlib.pyplot as plt\\nimport numpy as np'); }\n",
       "    "
      ],
      "text/plain": [
       "<IPython.core.display.Javascript object>"
      ]
     },
     "metadata": {},
     "output_type": "display_data"
    },
    {
     "name": "stdout",
     "output_type": "stream",
     "text": [
      "DFBETAS\n",
      "     dfb_GDP\n",
      "15       NaN\n",
      "17       NaN\n",
      "27       NaN\n",
      "42       NaN\n",
      "143      NaN\n",
      "..       ...\n",
      "24       NaN\n",
      "0        NaN\n",
      "147      NaN\n",
      "170      NaN\n",
      "119      NaN\n",
      "\n",
      "[129 rows x 1 columns]\n",
      "\n",
      "\n",
      "DFFITS\n",
      "42     0.202559\n",
      "146    0.234237\n",
      "39     0.160407\n",
      "157    0.171249\n",
      "34     0.219006\n",
      "96     0.193991\n",
      "128    0.161058\n",
      "80     0.235161\n",
      "41     0.164119\n",
      "Name: dffits, dtype: float64\n",
      "\n",
      "\n"
     ]
    },
    {
     "data": {
      "application/javascript": [
       "\n",
       "        if (window._pyforest_update_imports_cell) { window._pyforest_update_imports_cell('import pandas as pd\\nimport matplotlib.pyplot as plt\\nimport numpy as np'); }\n",
       "    "
      ],
      "text/plain": [
       "<IPython.core.display.Javascript object>"
      ]
     },
     "metadata": {},
     "output_type": "display_data"
    },
    {
     "name": "stdout",
     "output_type": "stream",
     "text": [
      "COOK'S DISTANCE\n",
      "      cooks_d\n",
      "15        NaN\n",
      "17        NaN\n",
      "27   0.023700\n",
      "42        NaN\n",
      "143  0.033155\n",
      "..        ...\n",
      "24        NaN\n",
      "0         NaN\n",
      "147       NaN\n",
      "170       NaN\n",
      "119       NaN\n",
      "\n",
      "[129 rows x 1 columns]\n"
     ]
    }
   ],
   "source": [
    "k = 1\n",
    "n = 162\n",
    "\n",
    "#high leverage points\n",
    "cutoff_levg = (2*k)/n\n",
    "l = pd.DataFrame(levg)\n",
    "print(\"FINDING LEVERAGE POINTS\")\n",
    "print(l[l>cutoff_levg])\n",
    "print('\\n')\n",
    "\n",
    "#influential points\n",
    "#DFBETAS , DFFITS , COOK'S DISTANCE\n",
    "\n",
    "print(\"FINDING INFLUENTIAL POINTS\")\n",
    "#DFBETAS\n",
    "cutoff_dfb = (2/(math.sqrt(n)))\n",
    "dfb = abs(inf_sum[\"dfb_GDP\"])\n",
    "dfb1 = pd.DataFrame(dfb)\n",
    "print(\"DFBETAS\")\n",
    "print(dfb1[dfb1>cutoff_dfb])\n",
    "print(\"\\n\")\n",
    "\n",
    "#DFFITS\n",
    "cutoff_dffits = 2*math.sqrt(k/n)\n",
    "dff = inf_sum[\"dffits\"]\n",
    "print(\"DFFITS\")\n",
    "print(dff[dff>cutoff_dffits])\n",
    "print(\"\\n\")\n",
    "\n",
    "#COOK'S DISTANCE\n",
    "cutoff_cooks = (inf_sum[\"cooks_d\"].mean()*3)\n",
    "c = abs(inf_sum[\"cooks_d\"])\n",
    "c1 =pd.DataFrame(c)\n",
    "print(\"COOK'S DISTANCE\")\n",
    "print(c1[c1>cutoff_cooks])"
   ]
  },
  {
   "cell_type": "code",
   "execution_count": 31,
   "id": "545fd354",
   "metadata": {},
   "outputs": [
    {
     "data": {
      "application/javascript": [
       "\n",
       "        if (window._pyforest_update_imports_cell) { window._pyforest_update_imports_cell('import pandas as pd\\nimport matplotlib.pyplot as plt\\nimport numpy as np'); }\n",
       "    "
      ],
      "text/plain": [
       "<IPython.core.display.Javascript object>"
      ]
     },
     "metadata": {},
     "output_type": "display_data"
    },
    {
     "data": {
      "application/javascript": [
       "\n",
       "        if (window._pyforest_update_imports_cell) { window._pyforest_update_imports_cell('import pandas as pd\\nimport matplotlib.pyplot as plt\\nimport numpy as np'); }\n",
       "    "
      ],
      "text/plain": [
       "<IPython.core.display.Javascript object>"
      ]
     },
     "metadata": {},
     "output_type": "display_data"
    },
    {
     "data": {
      "application/javascript": [
       "\n",
       "        if (window._pyforest_update_imports_cell) { window._pyforest_update_imports_cell('import pandas as pd\\nimport matplotlib.pyplot as plt\\nimport numpy as np'); }\n",
       "    "
      ],
      "text/plain": [
       "<IPython.core.display.Javascript object>"
      ]
     },
     "metadata": {},
     "output_type": "display_data"
    },
    {
     "data": {
      "application/javascript": [
       "\n",
       "        if (window._pyforest_update_imports_cell) { window._pyforest_update_imports_cell('import pandas as pd\\nimport matplotlib.pyplot as plt\\nimport numpy as np'); }\n",
       "    "
      ],
      "text/plain": [
       "<IPython.core.display.Javascript object>"
      ]
     },
     "metadata": {},
     "output_type": "display_data"
    },
    {
     "data": {
      "text/plain": [
       "Text(0, 0.5, 'Studentized Residuals')"
      ]
     },
     "execution_count": 31,
     "metadata": {},
     "output_type": "execute_result"
    },
    {
     "data": {
      "image/png": "[encoded data removed]",
      "text/plain": [
       "<Figure size 432x288 with 1 Axes>"
      ]
     },
     "metadata": {
      "needs_background": "light"
     },
     "output_type": "display_data"
    }
   ],
   "source": [
    "plt.scatter(levg,inf_sum[\"student_resid\"],color = \"red\")\n",
    "plt.title('Leverage vs. Studentized Residuals')\n",
    "plt.xlabel('Leverage')\n",
    "plt.ylabel('Studentized Residuals')"
   ]
  },
  {
   "cell_type": "code",
   "execution_count": 32,
   "id": "f9fb3fb1",
   "metadata": {},
   "outputs": [
    {
     "data": {
      "application/javascript": [
       "\n",
       "        if (window._pyforest_update_imports_cell) { window._pyforest_update_imports_cell('import pandas as pd\\nimport matplotlib.pyplot as plt\\nimport numpy as np'); }\n",
       "    "
      ],
      "text/plain": [
       "<IPython.core.display.Javascript object>"
      ]
     },
     "metadata": {},
     "output_type": "display_data"
    },
    {
     "data": {
      "image/png": "[encoded data removed]",
      "text/plain": [
       "<Figure size 576x504 with 1 Axes>"
      ]
     },
     "metadata": {
      "needs_background": "light"
     },
     "output_type": "display_data"
    }
   ],
   "source": [
    "fig, ax = plt.subplots(figsize=(8,7))\n",
    "fig = sm.graphics.influence_plot(result, ax= ax, criterion=\"cooks\", alpha = 0.5)"
   ]
  },
  {
   "cell_type": "markdown",
   "id": "46bd1773",
   "metadata": {},
   "source": [
    "#### B - Cloud Seeding Data"
   ]
  },
  {
   "cell_type": "code",
   "execution_count": 34,
   "id": "09c0c5a5",
   "metadata": {},
   "outputs": [
    {
     "data": {
      "application/javascript": [
       "\n",
       "        if (window._pyforest_update_imports_cell) { window._pyforest_update_imports_cell('import pandas as pd\\nimport matplotlib.pyplot as plt\\nimport numpy as np'); }\n",
       "    "
      ],
      "text/plain": [
       "<IPython.core.display.Javascript object>"
      ]
     },
     "metadata": {},
     "output_type": "display_data"
    },
    {
     "data": {
      "text/html": [
       "<div>\n",
       "<style scoped>\n",
       "    .dataframe tbody tr th:only-of-type {\n",
       "        vertical-align: middle;\n",
       "    }\n",
       "\n",
       "    .dataframe tbody tr th {\n",
       "        vertical-align: top;\n",
       "    }\n",
       "\n",
       "    .dataframe thead th {\n",
       "        text-align: right;\n",
       "    }\n",
       "</style>\n",
       "<table border=\"1\" class=\"dataframe\">\n",
       "  <thead>\n",
       "    <tr style=\"text-align: right;\">\n",
       "      <th></th>\n",
       "      <th>A</th>\n",
       "      <th>T</th>\n",
       "      <th>S</th>\n",
       "      <th>C</th>\n",
       "      <th>P</th>\n",
       "      <th>E</th>\n",
       "      <th>Y</th>\n",
       "    </tr>\n",
       "  </thead>\n",
       "  <tbody>\n",
       "    <tr>\n",
       "      <th>0</th>\n",
       "      <td>0</td>\n",
       "      <td>0</td>\n",
       "      <td>1.75</td>\n",
       "      <td>13.4</td>\n",
       "      <td>0.274</td>\n",
       "      <td>0</td>\n",
       "      <td>2.55</td>\n",
       "    </tr>\n",
       "    <tr>\n",
       "      <th>1</th>\n",
       "      <td>1</td>\n",
       "      <td>3</td>\n",
       "      <td>4.10</td>\n",
       "      <td>3.9</td>\n",
       "      <td>0.198</td>\n",
       "      <td>0</td>\n",
       "      <td>1.83</td>\n",
       "    </tr>\n",
       "    <tr>\n",
       "      <th>2</th>\n",
       "      <td>0</td>\n",
       "      <td>4</td>\n",
       "      <td>2.35</td>\n",
       "      <td>5.3</td>\n",
       "      <td>0.526</td>\n",
       "      <td>1</td>\n",
       "      <td>1.80</td>\n",
       "    </tr>\n",
       "    <tr>\n",
       "      <th>3</th>\n",
       "      <td>1</td>\n",
       "      <td>6</td>\n",
       "      <td>4.25</td>\n",
       "      <td>7.1</td>\n",
       "      <td>0.250</td>\n",
       "      <td>1</td>\n",
       "      <td>0.89</td>\n",
       "    </tr>\n",
       "    <tr>\n",
       "      <th>4</th>\n",
       "      <td>0</td>\n",
       "      <td>9</td>\n",
       "      <td>1.60</td>\n",
       "      <td>6.9</td>\n",
       "      <td>0.018</td>\n",
       "      <td>0</td>\n",
       "      <td>1.28</td>\n",
       "    </tr>\n",
       "    <tr>\n",
       "      <th>5</th>\n",
       "      <td>0</td>\n",
       "      <td>25</td>\n",
       "      <td>3.35</td>\n",
       "      <td>4.9</td>\n",
       "      <td>0.194</td>\n",
       "      <td>1</td>\n",
       "      <td>1.51</td>\n",
       "    </tr>\n",
       "    <tr>\n",
       "      <th>6</th>\n",
       "      <td>0</td>\n",
       "      <td>27</td>\n",
       "      <td>2.85</td>\n",
       "      <td>12.1</td>\n",
       "      <td>0.751</td>\n",
       "      <td>1</td>\n",
       "      <td>1.84</td>\n",
       "    </tr>\n",
       "    <tr>\n",
       "      <th>7</th>\n",
       "      <td>1</td>\n",
       "      <td>28</td>\n",
       "      <td>2.20</td>\n",
       "      <td>5.2</td>\n",
       "      <td>0.084</td>\n",
       "      <td>1</td>\n",
       "      <td>1.62</td>\n",
       "    </tr>\n",
       "    <tr>\n",
       "      <th>8</th>\n",
       "      <td>1</td>\n",
       "      <td>29</td>\n",
       "      <td>4.40</td>\n",
       "      <td>4.1</td>\n",
       "      <td>0.236</td>\n",
       "      <td>1</td>\n",
       "      <td>1.01</td>\n",
       "    </tr>\n",
       "    <tr>\n",
       "      <th>9</th>\n",
       "      <td>1</td>\n",
       "      <td>32</td>\n",
       "      <td>3.10</td>\n",
       "      <td>2.8</td>\n",
       "      <td>0.214</td>\n",
       "      <td>1</td>\n",
       "      <td>1.39</td>\n",
       "    </tr>\n",
       "    <tr>\n",
       "      <th>10</th>\n",
       "      <td>0</td>\n",
       "      <td>33</td>\n",
       "      <td>3.95</td>\n",
       "      <td>6.8</td>\n",
       "      <td>0.796</td>\n",
       "      <td>1</td>\n",
       "      <td>1.74</td>\n",
       "    </tr>\n",
       "    <tr>\n",
       "      <th>11</th>\n",
       "      <td>1</td>\n",
       "      <td>35</td>\n",
       "      <td>2.90</td>\n",
       "      <td>3.0</td>\n",
       "      <td>0.124</td>\n",
       "      <td>1</td>\n",
       "      <td>1.57</td>\n",
       "    </tr>\n",
       "    <tr>\n",
       "      <th>12</th>\n",
       "      <td>1</td>\n",
       "      <td>38</td>\n",
       "      <td>2.05</td>\n",
       "      <td>7.0</td>\n",
       "      <td>0.144</td>\n",
       "      <td>1</td>\n",
       "      <td>2.47</td>\n",
       "    </tr>\n",
       "    <tr>\n",
       "      <th>13</th>\n",
       "      <td>0</td>\n",
       "      <td>39</td>\n",
       "      <td>4.00</td>\n",
       "      <td>11.3</td>\n",
       "      <td>0.398</td>\n",
       "      <td>1</td>\n",
       "      <td>1.49</td>\n",
       "    </tr>\n",
       "    <tr>\n",
       "      <th>14</th>\n",
       "      <td>0</td>\n",
       "      <td>53</td>\n",
       "      <td>3.35</td>\n",
       "      <td>4.2</td>\n",
       "      <td>0.237</td>\n",
       "      <td>0</td>\n",
       "      <td>1.29</td>\n",
       "    </tr>\n",
       "    <tr>\n",
       "      <th>15</th>\n",
       "      <td>0</td>\n",
       "      <td>56</td>\n",
       "      <td>3.80</td>\n",
       "      <td>2.2</td>\n",
       "      <td>0.230</td>\n",
       "      <td>1</td>\n",
       "      <td>0.14</td>\n",
       "    </tr>\n",
       "    <tr>\n",
       "      <th>16</th>\n",
       "      <td>1</td>\n",
       "      <td>59</td>\n",
       "      <td>3.40</td>\n",
       "      <td>6.5</td>\n",
       "      <td>0.142</td>\n",
       "      <td>0</td>\n",
       "      <td>1.69</td>\n",
       "    </tr>\n",
       "    <tr>\n",
       "      <th>17</th>\n",
       "      <td>1</td>\n",
       "      <td>65</td>\n",
       "      <td>3.15</td>\n",
       "      <td>3.1</td>\n",
       "      <td>0.073</td>\n",
       "      <td>1</td>\n",
       "      <td>0.70</td>\n",
       "    </tr>\n",
       "    <tr>\n",
       "      <th>18</th>\n",
       "      <td>0</td>\n",
       "      <td>68</td>\n",
       "      <td>3.15</td>\n",
       "      <td>2.6</td>\n",
       "      <td>0.136</td>\n",
       "      <td>1</td>\n",
       "      <td>-0.19</td>\n",
       "    </tr>\n",
       "    <tr>\n",
       "      <th>19</th>\n",
       "      <td>1</td>\n",
       "      <td>82</td>\n",
       "      <td>4.01</td>\n",
       "      <td>8.3</td>\n",
       "      <td>0.123</td>\n",
       "      <td>1</td>\n",
       "      <td>0.08</td>\n",
       "    </tr>\n",
       "  </tbody>\n",
       "</table>\n",
       "</div>"
      ],
      "text/plain": [
       "    A   T     S     C      P  E     Y\n",
       "0   0   0  1.75  13.4  0.274  0  2.55\n",
       "1   1   3  4.10   3.9  0.198  0  1.83\n",
       "2   0   4  2.35   5.3  0.526  1  1.80\n",
       "3   1   6  4.25   7.1  0.250  1  0.89\n",
       "4   0   9  1.60   6.9  0.018  0  1.28\n",
       "5   0  25  3.35   4.9  0.194  1  1.51\n",
       "6   0  27  2.85  12.1  0.751  1  1.84\n",
       "7   1  28  2.20   5.2  0.084  1  1.62\n",
       "8   1  29  4.40   4.1  0.236  1  1.01\n",
       "9   1  32  3.10   2.8  0.214  1  1.39\n",
       "10  0  33  3.95   6.8  0.796  1  1.74\n",
       "11  1  35  2.90   3.0  0.124  1  1.57\n",
       "12  1  38  2.05   7.0  0.144  1  2.47\n",
       "13  0  39  4.00  11.3  0.398  1  1.49\n",
       "14  0  53  3.35   4.2  0.237  0  1.29\n",
       "15  0  56  3.80   2.2  0.230  1  0.14\n",
       "16  1  59  3.40   6.5  0.142  0  1.69\n",
       "17  1  65  3.15   3.1  0.073  1  0.70\n",
       "18  0  68  3.15   2.6  0.136  1 -0.19\n",
       "19  1  82  4.01   8.3  0.123  1  0.08"
      ]
     },
     "execution_count": 34,
     "metadata": {},
     "output_type": "execute_result"
    }
   ],
   "source": [
    "cs = pd.read_csv(\"C:/Users/Akash/Desktop/Mayukh sir practical/assignment1/a1d2.csv\")\n",
    "cs"
   ]
  },
  {
   "cell_type": "code",
   "execution_count": 35,
   "id": "e035eb44",
   "metadata": {},
   "outputs": [],
   "source": [
    "A = cs[\"A\"]\n",
    "T = cs[\"T\"]\n",
    "S = cs[\"S\"]\n",
    "C = cs[\"C\"]\n",
    "P = cs[\"P\"]\n",
    "E = cs[\"E\"]\n",
    "Y = cs[\"Y\"]\n",
    "#\n",
    "ind_var = cs.drop(\"Y\",axis = 1)"
   ]
  },
  {
   "cell_type": "markdown",
   "id": "f0ec8961",
   "metadata": {},
   "source": [
    "##### multiple linear regression"
   ]
  },
  {
   "cell_type": "code",
   "execution_count": 36,
   "id": "be572439",
   "metadata": {},
   "outputs": [
    {
     "name": "stderr",
     "output_type": "stream",
     "text": [
      "C:\\Users\\Akash\\AppData\\Local\\Programs\\Python\\Python310\\lib\\site-packages\\scipy\\stats\\_stats_py.py:1477: UserWarning: kurtosistest only valid for n>=20 ... continuing anyway, n=16\n",
      "  warnings.warn(\"kurtosistest only valid for n>=20 ... continuing \"\n"
     ]
    },
    {
     "data": {
      "text/html": [
       "<table class=\"simpletable\">\n",
       "<caption>OLS Regression Results</caption>\n",
       "<tr>\n",
       "  <th>Dep. Variable:</th>            <td>Y</td>        <th>  R-squared:         </th> <td>   0.725</td>\n",
       "</tr>\n",
       "<tr>\n",
       "  <th>Model:</th>                   <td>OLS</td>       <th>  Adj. R-squared:    </th> <td>   0.542</td>\n",
       "</tr>\n",
       "<tr>\n",
       "  <th>Method:</th>             <td>Least Squares</td>  <th>  F-statistic:       </th> <td>   3.963</td>\n",
       "</tr>\n",
       "<tr>\n",
       "  <th>Date:</th>             <td>Sun, 05 Jun 2022</td> <th>  Prob (F-statistic):</th>  <td>0.0321</td> \n",
       "</tr>\n",
       "<tr>\n",
       "  <th>Time:</th>                 <td>21:33:09</td>     <th>  Log-Likelihood:    </th> <td> -7.8787</td>\n",
       "</tr>\n",
       "<tr>\n",
       "  <th>No. Observations:</th>      <td>    16</td>      <th>  AIC:               </th> <td>   29.76</td>\n",
       "</tr>\n",
       "<tr>\n",
       "  <th>Df Residuals:</th>          <td>     9</td>      <th>  BIC:               </th> <td>   35.17</td>\n",
       "</tr>\n",
       "<tr>\n",
       "  <th>Df Model:</th>              <td>     6</td>      <th>                     </th>     <td> </td>   \n",
       "</tr>\n",
       "<tr>\n",
       "  <th>Covariance Type:</th>      <td>nonrobust</td>    <th>                     </th>     <td> </td>   \n",
       "</tr>\n",
       "</table>\n",
       "<table class=\"simpletable\">\n",
       "<tr>\n",
       "    <td></td>       <th>coef</th>     <th>std err</th>      <th>t</th>      <th>P>|t|</th>  <th>[0.025</th>    <th>0.975]</th>  \n",
       "</tr>\n",
       "<tr>\n",
       "  <th>const</th> <td>    2.2930</td> <td>    0.705</td> <td>    3.251</td> <td> 0.010</td> <td>    0.697</td> <td>    3.889</td>\n",
       "</tr>\n",
       "<tr>\n",
       "  <th>A</th>     <td>    0.6626</td> <td>    0.315</td> <td>    2.101</td> <td> 0.065</td> <td>   -0.051</td> <td>    1.376</td>\n",
       "</tr>\n",
       "<tr>\n",
       "  <th>T</th>     <td>   -0.0108</td> <td>    0.007</td> <td>   -1.521</td> <td> 0.163</td> <td>   -0.027</td> <td>    0.005</td>\n",
       "</tr>\n",
       "<tr>\n",
       "  <th>S</th>     <td>   -0.4523</td> <td>    0.200</td> <td>   -2.260</td> <td> 0.050</td> <td>   -0.905</td> <td>    0.000</td>\n",
       "</tr>\n",
       "<tr>\n",
       "  <th>C</th>     <td>    0.0364</td> <td>    0.053</td> <td>    0.680</td> <td> 0.513</td> <td>   -0.085</td> <td>    0.157</td>\n",
       "</tr>\n",
       "<tr>\n",
       "  <th>P</th>     <td>    1.8280</td> <td>    0.945</td> <td>    1.934</td> <td> 0.085</td> <td>   -0.310</td> <td>    3.966</td>\n",
       "</tr>\n",
       "<tr>\n",
       "  <th>E</th>     <td>   -0.2405</td> <td>    0.450</td> <td>   -0.534</td> <td> 0.606</td> <td>   -1.259</td> <td>    0.778</td>\n",
       "</tr>\n",
       "</table>\n",
       "<table class=\"simpletable\">\n",
       "<tr>\n",
       "  <th>Omnibus:</th>       <td> 1.715</td> <th>  Durbin-Watson:     </th> <td>   2.063</td>\n",
       "</tr>\n",
       "<tr>\n",
       "  <th>Prob(Omnibus):</th> <td> 0.424</td> <th>  Jarque-Bera (JB):  </th> <td>   1.000</td>\n",
       "</tr>\n",
       "<tr>\n",
       "  <th>Skew:</th>          <td> 0.244</td> <th>  Prob(JB):          </th> <td>   0.606</td>\n",
       "</tr>\n",
       "<tr>\n",
       "  <th>Kurtosis:</th>      <td> 1.876</td> <th>  Cond. No.          </th> <td>    323.</td>\n",
       "</tr>\n",
       "</table><br/><br/>Notes:<br/>[1] Standard Errors assume that the covariance matrix of the errors is correctly specified."
      ],
      "text/plain": [
       "<class 'statsmodels.iolib.summary.Summary'>\n",
       "\"\"\"\n",
       "                            OLS Regression Results                            \n",
       "==============================================================================\n",
       "Dep. Variable:                      Y   R-squared:                       0.725\n",
       "Model:                            OLS   Adj. R-squared:                  0.542\n",
       "Method:                 Least Squares   F-statistic:                     3.963\n",
       "Date:                Sun, 05 Jun 2022   Prob (F-statistic):             0.0321\n",
       "Time:                        21:33:09   Log-Likelihood:                -7.8787\n",
       "No. Observations:                  16   AIC:                             29.76\n",
       "Df Residuals:                       9   BIC:                             35.17\n",
       "Df Model:                           6                                         \n",
       "Covariance Type:            nonrobust                                         \n",
       "==============================================================================\n",
       "                 coef    std err          t      P>|t|      [0.025      0.975]\n",
       "------------------------------------------------------------------------------\n",
       "const          2.2930      0.705      3.251      0.010       0.697       3.889\n",
       "A              0.6626      0.315      2.101      0.065      -0.051       1.376\n",
       "T             -0.0108      0.007     -1.521      0.163      -0.027       0.005\n",
       "S             -0.4523      0.200     -2.260      0.050      -0.905       0.000\n",
       "C              0.0364      0.053      0.680      0.513      -0.085       0.157\n",
       "P              1.8280      0.945      1.934      0.085      -0.310       3.966\n",
       "E             -0.2405      0.450     -0.534      0.606      -1.259       0.778\n",
       "==============================================================================\n",
       "Omnibus:                        1.715   Durbin-Watson:                   2.063\n",
       "Prob(Omnibus):                  0.424   Jarque-Bera (JB):                1.000\n",
       "Skew:                           0.244   Prob(JB):                        0.606\n",
       "Kurtosis:                       1.876   Cond. No.                         323.\n",
       "==============================================================================\n",
       "\n",
       "Notes:\n",
       "[1] Standard Errors assume that the covariance matrix of the errors is correctly specified.\n",
       "\"\"\""
      ]
     },
     "execution_count": 36,
     "metadata": {},
     "output_type": "execute_result"
    }
   ],
   "source": [
    "x_train2, x_test2, y_train2, y_test2 = train_test_split(ind_var,Y,test_size = 0.2, random_state = 3)\n",
    "\n",
    "X = sm.add_constant(x_train2)\n",
    "mod2 = sm.OLS(y_train2 , X)\n",
    "result2 = mod2.fit()\n",
    "result2.summary()"
   ]
  },
  {
   "cell_type": "markdown",
   "id": "a9e5ae11",
   "metadata": {},
   "source": [
    "#### Q1 - Check for any outliers in the data"
   ]
  },
  {
   "cell_type": "code",
   "execution_count": 37,
   "id": "f0793d89",
   "metadata": {},
   "outputs": [
    {
     "data": {
      "text/html": [
       "<div>\n",
       "<style scoped>\n",
       "    .dataframe tbody tr th:only-of-type {\n",
       "        vertical-align: middle;\n",
       "    }\n",
       "\n",
       "    .dataframe tbody tr th {\n",
       "        vertical-align: top;\n",
       "    }\n",
       "\n",
       "    .dataframe thead th {\n",
       "        text-align: right;\n",
       "    }\n",
       "</style>\n",
       "<table border=\"1\" class=\"dataframe\">\n",
       "  <thead>\n",
       "    <tr style=\"text-align: right;\">\n",
       "      <th></th>\n",
       "      <th>dfb_const</th>\n",
       "      <th>dfb_A</th>\n",
       "      <th>dfb_T</th>\n",
       "      <th>dfb_S</th>\n",
       "      <th>dfb_C</th>\n",
       "      <th>dfb_P</th>\n",
       "      <th>dfb_E</th>\n",
       "      <th>cooks_d</th>\n",
       "      <th>standard_resid</th>\n",
       "      <th>hat_diag</th>\n",
       "      <th>dffits_internal</th>\n",
       "      <th>student_resid</th>\n",
       "      <th>dffits</th>\n",
       "    </tr>\n",
       "  </thead>\n",
       "  <tbody>\n",
       "    <tr>\n",
       "      <th>4</th>\n",
       "      <td>-0.956286</td>\n",
       "      <td>0.483508</td>\n",
       "      <td>0.341436</td>\n",
       "      <td>0.169160</td>\n",
       "      <td>0.248210</td>\n",
       "      <td>0.301398</td>\n",
       "      <td>0.499222</td>\n",
       "      <td>0.236196</td>\n",
       "      <td>-1.278321</td>\n",
       "      <td>0.502931</td>\n",
       "      <td>-1.285835</td>\n",
       "      <td>-1.332208</td>\n",
       "      <td>-1.340039</td>\n",
       "    </tr>\n",
       "    <tr>\n",
       "      <th>16</th>\n",
       "      <td>0.268378</td>\n",
       "      <td>1.208826</td>\n",
       "      <td>1.179061</td>\n",
       "      <td>0.498222</td>\n",
       "      <td>-0.522809</td>\n",
       "      <td>0.863783</td>\n",
       "      <td>-2.483663</td>\n",
       "      <td>1.013997</td>\n",
       "      <td>1.559290</td>\n",
       "      <td>0.744853</td>\n",
       "      <td>2.664204</td>\n",
       "      <td>1.720818</td>\n",
       "      <td>2.940191</td>\n",
       "    </tr>\n",
       "    <tr>\n",
       "      <th>6</th>\n",
       "      <td>0.062020</td>\n",
       "      <td>-0.125557</td>\n",
       "      <td>-0.235411</td>\n",
       "      <td>0.547382</td>\n",
       "      <td>-0.287353</td>\n",
       "      <td>-0.743622</td>\n",
       "      <td>-0.252140</td>\n",
       "      <td>0.242049</td>\n",
       "      <td>-1.226300</td>\n",
       "      <td>0.529787</td>\n",
       "      <td>-1.301668</td>\n",
       "      <td>-1.266839</td>\n",
       "      <td>-1.344699</td>\n",
       "    </tr>\n",
       "    <tr>\n",
       "      <th>7</th>\n",
       "      <td>-0.071935</td>\n",
       "      <td>-0.070661</td>\n",
       "      <td>0.016825</td>\n",
       "      <td>0.121911</td>\n",
       "      <td>-0.003838</td>\n",
       "      <td>0.017439</td>\n",
       "      <td>-0.094433</td>\n",
       "      <td>0.006314</td>\n",
       "      <td>-0.316657</td>\n",
       "      <td>0.305943</td>\n",
       "      <td>-0.210238</td>\n",
       "      <td>-0.300224</td>\n",
       "      <td>-0.199328</td>\n",
       "    </tr>\n",
       "    <tr>\n",
       "      <th>15</th>\n",
       "      <td>-0.034405</td>\n",
       "      <td>0.085445</td>\n",
       "      <td>-0.025407</td>\n",
       "      <td>-0.027747</td>\n",
       "      <td>0.063002</td>\n",
       "      <td>0.012990</td>\n",
       "      <td>0.005133</td>\n",
       "      <td>0.003091</td>\n",
       "      <td>-0.203709</td>\n",
       "      <td>0.342737</td>\n",
       "      <td>-0.147103</td>\n",
       "      <td>-0.192503</td>\n",
       "      <td>-0.139011</td>\n",
       "    </tr>\n",
       "    <tr>\n",
       "      <th>12</th>\n",
       "      <td>0.227278</td>\n",
       "      <td>0.489650</td>\n",
       "      <td>0.279522</td>\n",
       "      <td>-0.859937</td>\n",
       "      <td>0.265533</td>\n",
       "      <td>0.024758</td>\n",
       "      <td>0.552353</td>\n",
       "      <td>0.176407</td>\n",
       "      <td>1.395226</td>\n",
       "      <td>0.388134</td>\n",
       "      <td>1.111237</td>\n",
       "      <td>1.485908</td>\n",
       "      <td>1.183462</td>\n",
       "    </tr>\n",
       "    <tr>\n",
       "      <th>9</th>\n",
       "      <td>-0.037979</td>\n",
       "      <td>-0.041008</td>\n",
       "      <td>0.013468</td>\n",
       "      <td>0.022944</td>\n",
       "      <td>0.048021</td>\n",
       "      <td>-0.031889</td>\n",
       "      <td>0.002586</td>\n",
       "      <td>0.001012</td>\n",
       "      <td>-0.150144</td>\n",
       "      <td>0.239040</td>\n",
       "      <td>-0.084151</td>\n",
       "      <td>-0.141734</td>\n",
       "      <td>-0.079438</td>\n",
       "    </tr>\n",
       "    <tr>\n",
       "      <th>11</th>\n",
       "      <td>0.101427</td>\n",
       "      <td>0.092765</td>\n",
       "      <td>-0.023194</td>\n",
       "      <td>-0.080130</td>\n",
       "      <td>-0.095139</td>\n",
       "      <td>0.029317</td>\n",
       "      <td>0.033741</td>\n",
       "      <td>0.007377</td>\n",
       "      <td>0.446677</td>\n",
       "      <td>0.205605</td>\n",
       "      <td>0.227244</td>\n",
       "      <td>0.425878</td>\n",
       "      <td>0.216663</td>\n",
       "    </tr>\n",
       "    <tr>\n",
       "      <th>19</th>\n",
       "      <td>1.116470</td>\n",
       "      <td>-0.283962</td>\n",
       "      <td>-1.153809</td>\n",
       "      <td>-0.284451</td>\n",
       "      <td>-1.092408</td>\n",
       "      <td>0.577704</td>\n",
       "      <td>-0.297059</td>\n",
       "      <td>0.426798</td>\n",
       "      <td>-1.388849</td>\n",
       "      <td>0.607667</td>\n",
       "      <td>-1.728463</td>\n",
       "      <td>-1.477258</td>\n",
       "      <td>-1.838491</td>\n",
       "    </tr>\n",
       "    <tr>\n",
       "      <th>18</th>\n",
       "      <td>-0.265065</td>\n",
       "      <td>0.530936</td>\n",
       "      <td>-0.452040</td>\n",
       "      <td>0.163154</td>\n",
       "      <td>0.226122</td>\n",
       "      <td>0.165762</td>\n",
       "      <td>-0.141332</td>\n",
       "      <td>0.117576</td>\n",
       "      <td>-1.057625</td>\n",
       "      <td>0.423893</td>\n",
       "      <td>-0.907212</td>\n",
       "      <td>-1.065551</td>\n",
       "      <td>-0.914011</td>\n",
       "    </tr>\n",
       "    <tr>\n",
       "      <th>13</th>\n",
       "      <td>-0.808460</td>\n",
       "      <td>-0.583881</td>\n",
       "      <td>-0.003602</td>\n",
       "      <td>0.588502</td>\n",
       "      <td>0.941349</td>\n",
       "      <td>-0.604894</td>\n",
       "      <td>0.469733</td>\n",
       "      <td>0.211012</td>\n",
       "      <td>1.351829</td>\n",
       "      <td>0.446988</td>\n",
       "      <td>1.215352</td>\n",
       "      <td>1.427676</td>\n",
       "      <td>1.283542</td>\n",
       "    </tr>\n",
       "    <tr>\n",
       "      <th>5</th>\n",
       "      <td>0.182126</td>\n",
       "      <td>-0.854510</td>\n",
       "      <td>-0.515613</td>\n",
       "      <td>0.337134</td>\n",
       "      <td>-0.048587</td>\n",
       "      <td>-0.613766</td>\n",
       "      <td>0.433556</td>\n",
       "      <td>0.154178</td>\n",
       "      <td>1.604007</td>\n",
       "      <td>0.295515</td>\n",
       "      <td>1.038867</td>\n",
       "      <td>1.789540</td>\n",
       "      <td>1.159032</td>\n",
       "    </tr>\n",
       "    <tr>\n",
       "      <th>0</th>\n",
       "      <td>0.036683</td>\n",
       "      <td>-0.022190</td>\n",
       "      <td>-0.037092</td>\n",
       "      <td>-0.012720</td>\n",
       "      <td>0.063872</td>\n",
       "      <td>-0.021090</td>\n",
       "      <td>-0.040096</td>\n",
       "      <td>0.004203</td>\n",
       "      <td>0.164276</td>\n",
       "      <td>0.521570</td>\n",
       "      <td>0.171523</td>\n",
       "      <td>0.155113</td>\n",
       "      <td>0.161956</td>\n",
       "    </tr>\n",
       "    <tr>\n",
       "      <th>8</th>\n",
       "      <td>-0.005872</td>\n",
       "      <td>0.007766</td>\n",
       "      <td>-0.013467</td>\n",
       "      <td>0.018344</td>\n",
       "      <td>-0.005408</td>\n",
       "      <td>-0.001275</td>\n",
       "      <td>-0.004132</td>\n",
       "      <td>0.000125</td>\n",
       "      <td>0.043122</td>\n",
       "      <td>0.320483</td>\n",
       "      <td>0.029614</td>\n",
       "      <td>0.040660</td>\n",
       "      <td>0.027924</td>\n",
       "    </tr>\n",
       "    <tr>\n",
       "      <th>3</th>\n",
       "      <td>0.611166</td>\n",
       "      <td>-0.342439</td>\n",
       "      <td>1.290498</td>\n",
       "      <td>-1.120048</td>\n",
       "      <td>-0.350127</td>\n",
       "      <td>0.497923</td>\n",
       "      <td>-0.192734</td>\n",
       "      <td>0.371034</td>\n",
       "      <td>-1.524800</td>\n",
       "      <td>0.527652</td>\n",
       "      <td>-1.611594</td>\n",
       "      <td>-1.669293</td>\n",
       "      <td>-1.764313</td>\n",
       "    </tr>\n",
       "    <tr>\n",
       "      <th>10</th>\n",
       "      <td>0.066073</td>\n",
       "      <td>0.032234</td>\n",
       "      <td>0.019291</td>\n",
       "      <td>-0.013155</td>\n",
       "      <td>-0.202348</td>\n",
       "      <td>0.362213</td>\n",
       "      <td>-0.127463</td>\n",
       "      <td>0.031524</td>\n",
       "      <td>0.385793</td>\n",
       "      <td>0.597201</td>\n",
       "      <td>0.469755</td>\n",
       "      <td>0.366775</td>\n",
       "      <td>0.446597</td>\n",
       "    </tr>\n",
       "  </tbody>\n",
       "</table>\n",
       "</div>"
      ],
      "text/plain": [
       "    dfb_const     dfb_A     dfb_T     dfb_S     dfb_C     dfb_P     dfb_E  \\\n",
       "4   -0.956286  0.483508  0.341436  0.169160  0.248210  0.301398  0.499222   \n",
       "16   0.268378  1.208826  1.179061  0.498222 -0.522809  0.863783 -2.483663   \n",
       "6    0.062020 -0.125557 -0.235411  0.547382 -0.287353 -0.743622 -0.252140   \n",
       "7   -0.071935 -0.070661  0.016825  0.121911 -0.003838  0.017439 -0.094433   \n",
       "15  -0.034405  0.085445 -0.025407 -0.027747  0.063002  0.012990  0.005133   \n",
       "12   0.227278  0.489650  0.279522 -0.859937  0.265533  0.024758  0.552353   \n",
       "9   -0.037979 -0.041008  0.013468  0.022944  0.048021 -0.031889  0.002586   \n",
       "11   0.101427  0.092765 -0.023194 -0.080130 -0.095139  0.029317  0.033741   \n",
       "19   1.116470 -0.283962 -1.153809 -0.284451 -1.092408  0.577704 -0.297059   \n",
       "18  -0.265065  0.530936 -0.452040  0.163154  0.226122  0.165762 -0.141332   \n",
       "13  -0.808460 -0.583881 -0.003602  0.588502  0.941349 -0.604894  0.469733   \n",
       "5    0.182126 -0.854510 -0.515613  0.337134 -0.048587 -0.613766  0.433556   \n",
       "0    0.036683 -0.022190 -0.037092 -0.012720  0.063872 -0.021090 -0.040096   \n",
       "8   -0.005872  0.007766 -0.013467  0.018344 -0.005408 -0.001275 -0.004132   \n",
       "3    0.611166 -0.342439  1.290498 -1.120048 -0.350127  0.497923 -0.192734   \n",
       "10   0.066073  0.032234  0.019291 -0.013155 -0.202348  0.362213 -0.127463   \n",
       "\n",
       "     cooks_d  standard_resid  hat_diag  dffits_internal  student_resid  \\\n",
       "4   0.236196       -1.278321  0.502931        -1.285835      -1.332208   \n",
       "16  1.013997        1.559290  0.744853         2.664204       1.720818   \n",
       "6   0.242049       -1.226300  0.529787        -1.301668      -1.266839   \n",
       "7   0.006314       -0.316657  0.305943        -0.210238      -0.300224   \n",
       "15  0.003091       -0.203709  0.342737        -0.147103      -0.192503   \n",
       "12  0.176407        1.395226  0.388134         1.111237       1.485908   \n",
       "9   0.001012       -0.150144  0.239040        -0.084151      -0.141734   \n",
       "11  0.007377        0.446677  0.205605         0.227244       0.425878   \n",
       "19  0.426798       -1.388849  0.607667        -1.728463      -1.477258   \n",
       "18  0.117576       -1.057625  0.423893        -0.907212      -1.065551   \n",
       "13  0.211012        1.351829  0.446988         1.215352       1.427676   \n",
       "5   0.154178        1.604007  0.295515         1.038867       1.789540   \n",
       "0   0.004203        0.164276  0.521570         0.171523       0.155113   \n",
       "8   0.000125        0.043122  0.320483         0.029614       0.040660   \n",
       "3   0.371034       -1.524800  0.527652        -1.611594      -1.669293   \n",
       "10  0.031524        0.385793  0.597201         0.469755       0.366775   \n",
       "\n",
       "      dffits  \n",
       "4  -1.340039  \n",
       "16  2.940191  \n",
       "6  -1.344699  \n",
       "7  -0.199328  \n",
       "15 -0.139011  \n",
       "12  1.183462  \n",
       "9  -0.079438  \n",
       "11  0.216663  \n",
       "19 -1.838491  \n",
       "18 -0.914011  \n",
       "13  1.283542  \n",
       "5   1.159032  \n",
       "0   0.161956  \n",
       "8   0.027924  \n",
       "3  -1.764313  \n",
       "10  0.446597  "
      ]
     },
     "execution_count": 37,
     "metadata": {},
     "output_type": "execute_result"
    }
   ],
   "source": [
    "influence2 = result2.get_influence()\n",
    "inf_sum = influence2.summary_frame()\n",
    "levg = inf_sum[\"hat_diag\"]\n",
    "inf_sum"
   ]
  },
  {
   "cell_type": "markdown",
   "id": "fb92185a",
   "metadata": {},
   "source": [
    "##### plotting predicted y vs stud/stand res "
   ]
  },
  {
   "cell_type": "code",
   "execution_count": 42,
   "id": "28d4302e",
   "metadata": {},
   "outputs": [
    {
     "data": {
      "application/javascript": [
       "\n",
       "        if (window._pyforest_update_imports_cell) { window._pyforest_update_imports_cell('import pandas as pd\\nimport matplotlib.pyplot as plt\\nimport numpy as np'); }\n",
       "    "
      ],
      "text/plain": [
       "<IPython.core.display.Javascript object>"
      ]
     },
     "metadata": {},
     "output_type": "display_data"
    },
    {
     "data": {
      "text/plain": [
       "Text(0, 0.5, 'Standardized Residuals')"
      ]
     },
     "execution_count": 42,
     "metadata": {},
     "output_type": "execute_result"
    },
    {
     "data": {
      "image/png": "[encoded data removed]",
      "text/plain": [
       "<Figure size 1440x504 with 2 Axes>"
      ]
     },
     "metadata": {
      "needs_background": "light"
     },
     "output_type": "display_data"
    }
   ],
   "source": [
    "y_pred2 = result2.predict(X)\n",
    "\n",
    "# scatterplot of predictor variable vs. studentized residuals and standardized residuals\n",
    "\n",
    "fig , axes = plt.subplots(figsize = (20,7), nrows = 1 , ncols = 2)\n",
    "axes[0].scatter(y_pred2, inf_sum[\"student_resid\"])\n",
    "axes[1].scatter(y_pred2, inf_sum[\"standard_resid\"],color = \"green\")\n",
    "axes[0].axhline(y=0, color='black')\n",
    "axes[1].axhline(y=0, color='black')\n",
    "axes[0].set_xlabel('Predicted life expectancy')\n",
    "axes[1].set_xlabel('Predicted life expectancy')\n",
    "axes[0].set_ylabel('Studentized Residuals') \n",
    "axes[1].set_ylabel('Standardized Residuals') "
   ]
  },
  {
   "cell_type": "code",
   "execution_count": 43,
   "id": "272457ec",
   "metadata": {},
   "outputs": [
    {
     "data": {
      "application/javascript": [
       "\n",
       "        if (window._pyforest_update_imports_cell) { window._pyforest_update_imports_cell('import pandas as pd\\nimport matplotlib.pyplot as plt\\nimport numpy as np'); }\n",
       "    "
      ],
      "text/plain": [
       "<IPython.core.display.Javascript object>"
      ]
     },
     "metadata": {},
     "output_type": "display_data"
    },
    {
     "data": {
      "application/javascript": [
       "\n",
       "        if (window._pyforest_update_imports_cell) { window._pyforest_update_imports_cell('import pandas as pd\\nimport matplotlib.pyplot as plt\\nimport numpy as np'); }\n",
       "    "
      ],
      "text/plain": [
       "<IPython.core.display.Javascript object>"
      ]
     },
     "metadata": {},
     "output_type": "display_data"
    },
    {
     "data": {
      "application/javascript": [
       "\n",
       "        if (window._pyforest_update_imports_cell) { window._pyforest_update_imports_cell('import pandas as pd\\nimport matplotlib.pyplot as plt\\nimport numpy as np'); }\n",
       "    "
      ],
      "text/plain": [
       "<IPython.core.display.Javascript object>"
      ]
     },
     "metadata": {},
     "output_type": "display_data"
    },
    {
     "data": {
      "application/javascript": [
       "\n",
       "        if (window._pyforest_update_imports_cell) { window._pyforest_update_imports_cell('import pandas as pd\\nimport matplotlib.pyplot as plt\\nimport numpy as np'); }\n",
       "    "
      ],
      "text/plain": [
       "<IPython.core.display.Javascript object>"
      ]
     },
     "metadata": {},
     "output_type": "display_data"
    },
    {
     "data": {
      "application/javascript": [
       "\n",
       "        if (window._pyforest_update_imports_cell) { window._pyforest_update_imports_cell('import pandas as pd\\nimport matplotlib.pyplot as plt\\nimport numpy as np'); }\n",
       "    "
      ],
      "text/plain": [
       "<IPython.core.display.Javascript object>"
      ]
     },
     "metadata": {},
     "output_type": "display_data"
    },
    {
     "data": {
      "text/html": [
       "<div>\n",
       "<style scoped>\n",
       "    .dataframe tbody tr th:only-of-type {\n",
       "        vertical-align: middle;\n",
       "    }\n",
       "\n",
       "    .dataframe tbody tr th {\n",
       "        vertical-align: top;\n",
       "    }\n",
       "\n",
       "    .dataframe thead th {\n",
       "        text-align: right;\n",
       "    }\n",
       "</style>\n",
       "<table border=\"1\" class=\"dataframe\">\n",
       "  <thead>\n",
       "    <tr style=\"text-align: right;\">\n",
       "      <th></th>\n",
       "      <th>Suspected outliers</th>\n",
       "    </tr>\n",
       "  </thead>\n",
       "  <tbody>\n",
       "    <tr>\n",
       "      <th>0</th>\n",
       "      <td>1.559290</td>\n",
       "    </tr>\n",
       "    <tr>\n",
       "      <th>1</th>\n",
       "      <td>0.203709</td>\n",
       "    </tr>\n",
       "    <tr>\n",
       "      <th>2</th>\n",
       "      <td>1.395226</td>\n",
       "    </tr>\n",
       "    <tr>\n",
       "      <th>3</th>\n",
       "      <td>0.150144</td>\n",
       "    </tr>\n",
       "    <tr>\n",
       "      <th>4</th>\n",
       "      <td>1.604007</td>\n",
       "    </tr>\n",
       "    <tr>\n",
       "      <th>5</th>\n",
       "      <td>0.164276</td>\n",
       "    </tr>\n",
       "    <tr>\n",
       "      <th>6</th>\n",
       "      <td>0.043122</td>\n",
       "    </tr>\n",
       "    <tr>\n",
       "      <th>7</th>\n",
       "      <td>1.524800</td>\n",
       "    </tr>\n",
       "  </tbody>\n",
       "</table>\n",
       "</div>"
      ],
      "text/plain": [
       "   Suspected outliers\n",
       "0            1.559290\n",
       "1            0.203709\n",
       "2            1.395226\n",
       "3            0.150144\n",
       "4            1.604007\n",
       "5            0.164276\n",
       "6            0.043122\n",
       "7            1.524800"
      ]
     },
     "execution_count": 43,
     "metadata": {},
     "output_type": "execute_result"
    }
   ],
   "source": [
    "#outliers                           \n",
    "sr = abs(inf_sum[\"standard_resid\"])\n",
    "\n",
    "Q1 = np.percentile(sr,25)\n",
    "Q3 = np.percentile(sr,75)\n",
    "iqr = Q3-Q1\n",
    "\n",
    "L1 = []\n",
    "L2 = []\n",
    "for i in sr:\n",
    "    if Q1<i<Q3:\n",
    "        L1.append(i)\n",
    "    else:\n",
    "        L2.append(i)\n",
    "\n",
    "a2 = np.array(L2)\n",
    "pd.DataFrame(a2,[np.arange(8)],[\"Suspected outliers\"])"
   ]
  },
  {
   "cell_type": "code",
   "execution_count": 44,
   "id": "bbd9736c",
   "metadata": {},
   "outputs": [
    {
     "data": {
      "application/javascript": [
       "\n",
       "        if (window._pyforest_update_imports_cell) { window._pyforest_update_imports_cell('import pandas as pd\\nimport matplotlib.pyplot as plt\\nimport numpy as np'); }\n",
       "    "
      ],
      "text/plain": [
       "<IPython.core.display.Javascript object>"
      ]
     },
     "metadata": {},
     "output_type": "display_data"
    },
    {
     "name": "stdout",
     "output_type": "stream",
     "text": [
      "FINDING LEVERAGE POINTS\n",
      "    hat_diag\n",
      "4        NaN\n",
      "16  0.744853\n",
      "6        NaN\n",
      "7        NaN\n",
      "15       NaN\n",
      "12       NaN\n",
      "9        NaN\n",
      "11       NaN\n",
      "19  0.607667\n",
      "18       NaN\n",
      "13       NaN\n",
      "5        NaN\n",
      "0        NaN\n",
      "8        NaN\n",
      "3        NaN\n",
      "10       NaN\n"
     ]
    }
   ],
   "source": [
    "k = 6\n",
    "n = 20\n",
    "\n",
    "#high leverage points\n",
    "cutoff_levg = (2*k)/n\n",
    "l = pd.DataFrame(levg)\n",
    "print(\"FINDING LEVERAGE POINTS\")\n",
    "print(l[l>cutoff_levg])"
   ]
  },
  {
   "cell_type": "code",
   "execution_count": 45,
   "id": "375695ce",
   "metadata": {},
   "outputs": [
    {
     "data": {
      "application/javascript": [
       "\n",
       "        if (window._pyforest_update_imports_cell) { window._pyforest_update_imports_cell('import pandas as pd\\nimport matplotlib.pyplot as plt\\nimport numpy as np'); }\n",
       "    "
      ],
      "text/plain": [
       "<IPython.core.display.Javascript object>"
      ]
     },
     "metadata": {},
     "output_type": "display_data"
    },
    {
     "name": "stdout",
     "output_type": "stream",
     "text": [
      "FINDING INFLUENTIAL POINTS\n",
      "       dfb_A\n",
      "4   0.483508\n",
      "16  1.208826\n",
      "6        NaN\n",
      "7        NaN\n",
      "15       NaN\n",
      "12  0.489650\n",
      "9        NaN\n",
      "11       NaN\n",
      "19       NaN\n",
      "18  0.530936\n",
      "13  0.583881\n",
      "5   0.854510\n",
      "0        NaN\n",
      "8        NaN\n",
      "3        NaN\n",
      "10       NaN\n",
      "\n",
      "\n"
     ]
    },
    {
     "data": {
      "application/javascript": [
       "\n",
       "        if (window._pyforest_update_imports_cell) { window._pyforest_update_imports_cell('import pandas as pd\\nimport matplotlib.pyplot as plt\\nimport numpy as np'); }\n",
       "    "
      ],
      "text/plain": [
       "<IPython.core.display.Javascript object>"
      ]
     },
     "metadata": {},
     "output_type": "display_data"
    },
    {
     "name": "stdout",
     "output_type": "stream",
     "text": [
      "       dfb_T\n",
      "4        NaN\n",
      "16  1.179061\n",
      "6        NaN\n",
      "7        NaN\n",
      "15       NaN\n",
      "12       NaN\n",
      "9        NaN\n",
      "11       NaN\n",
      "19  1.153809\n",
      "18  0.452040\n",
      "13       NaN\n",
      "5   0.515613\n",
      "0        NaN\n",
      "8        NaN\n",
      "3   1.290498\n",
      "10       NaN\n",
      "\n",
      "\n"
     ]
    },
    {
     "data": {
      "application/javascript": [
       "\n",
       "        if (window._pyforest_update_imports_cell) { window._pyforest_update_imports_cell('import pandas as pd\\nimport matplotlib.pyplot as plt\\nimport numpy as np'); }\n",
       "    "
      ],
      "text/plain": [
       "<IPython.core.display.Javascript object>"
      ]
     },
     "metadata": {},
     "output_type": "display_data"
    },
    {
     "name": "stdout",
     "output_type": "stream",
     "text": [
      "       dfb_S\n",
      "4        NaN\n",
      "16  0.498222\n",
      "6   0.547382\n",
      "7        NaN\n",
      "15       NaN\n",
      "12  0.859937\n",
      "9        NaN\n",
      "11       NaN\n",
      "19       NaN\n",
      "18       NaN\n",
      "13  0.588502\n",
      "5        NaN\n",
      "0        NaN\n",
      "8        NaN\n",
      "3   1.120048\n",
      "10       NaN\n",
      "\n",
      "\n"
     ]
    },
    {
     "data": {
      "application/javascript": [
       "\n",
       "        if (window._pyforest_update_imports_cell) { window._pyforest_update_imports_cell('import pandas as pd\\nimport matplotlib.pyplot as plt\\nimport numpy as np'); }\n",
       "    "
      ],
      "text/plain": [
       "<IPython.core.display.Javascript object>"
      ]
     },
     "metadata": {},
     "output_type": "display_data"
    },
    {
     "name": "stdout",
     "output_type": "stream",
     "text": [
      "       dfb_C\n",
      "4        NaN\n",
      "16  0.522809\n",
      "6        NaN\n",
      "7        NaN\n",
      "15       NaN\n",
      "12       NaN\n",
      "9        NaN\n",
      "11       NaN\n",
      "19  1.092408\n",
      "18       NaN\n",
      "13  0.941349\n",
      "5        NaN\n",
      "0        NaN\n",
      "8        NaN\n",
      "3        NaN\n",
      "10       NaN\n",
      "\n",
      "\n"
     ]
    },
    {
     "data": {
      "application/javascript": [
       "\n",
       "        if (window._pyforest_update_imports_cell) { window._pyforest_update_imports_cell('import pandas as pd\\nimport matplotlib.pyplot as plt\\nimport numpy as np'); }\n",
       "    "
      ],
      "text/plain": [
       "<IPython.core.display.Javascript object>"
      ]
     },
     "metadata": {},
     "output_type": "display_data"
    },
    {
     "name": "stdout",
     "output_type": "stream",
     "text": [
      "       dfb_P\n",
      "4        NaN\n",
      "16  0.863783\n",
      "6   0.743622\n",
      "7        NaN\n",
      "15       NaN\n",
      "12       NaN\n",
      "9        NaN\n",
      "11       NaN\n",
      "19  0.577704\n",
      "18       NaN\n",
      "13  0.604894\n",
      "5   0.613766\n",
      "0        NaN\n",
      "8        NaN\n",
      "3   0.497923\n",
      "10       NaN\n",
      "\n",
      "\n"
     ]
    },
    {
     "data": {
      "application/javascript": [
       "\n",
       "        if (window._pyforest_update_imports_cell) { window._pyforest_update_imports_cell('import pandas as pd\\nimport matplotlib.pyplot as plt\\nimport numpy as np'); }\n",
       "    "
      ],
      "text/plain": [
       "<IPython.core.display.Javascript object>"
      ]
     },
     "metadata": {},
     "output_type": "display_data"
    },
    {
     "name": "stdout",
     "output_type": "stream",
     "text": [
      "       dfb_E\n",
      "4   0.499222\n",
      "16  2.483663\n",
      "6        NaN\n",
      "7        NaN\n",
      "15       NaN\n",
      "12  0.552353\n",
      "9        NaN\n",
      "11       NaN\n",
      "19       NaN\n",
      "18       NaN\n",
      "13  0.469733\n",
      "5        NaN\n",
      "0        NaN\n",
      "8        NaN\n",
      "3        NaN\n",
      "10       NaN\n",
      "\n",
      "\n"
     ]
    }
   ],
   "source": [
    "#influential points\n",
    "#DFBETAS , DFFITS , COOK'S DISTANCE\n",
    "\n",
    "#DFBETAS\n",
    "cutoff_dfb = (2/(math.sqrt(n)))\n",
    "dfb = abs(inf_sum[\"dfb_A\"])\n",
    "dfb1 = pd.DataFrame(dfb)\n",
    "print(\"FINDING INFLUENTIAL POINTS\")\n",
    "print(dfb1[dfb1>cutoff_dfb])\n",
    "print(\"\\n\")\n",
    "\n",
    "cutoff_dfb = (2/(math.sqrt(n)))\n",
    "dfb = abs(inf_sum[\"dfb_T\"])\n",
    "dfb1 = pd.DataFrame(dfb)\n",
    "print(dfb1[dfb1>cutoff_dfb])\n",
    "print(\"\\n\")\n",
    "\n",
    "cutoff_dfb = (2/(math.sqrt(n)))\n",
    "dfb = abs(inf_sum[\"dfb_S\"])\n",
    "dfb1 = pd.DataFrame(dfb)\n",
    "print(dfb1[dfb1>cutoff_dfb])\n",
    "print(\"\\n\")\n",
    "\n",
    "cutoff_dfb = (2/(math.sqrt(n)))\n",
    "dfb = abs(inf_sum[\"dfb_C\"])\n",
    "dfb1 = pd.DataFrame(dfb)\n",
    "print(dfb1[dfb1>cutoff_dfb])\n",
    "print(\"\\n\")\n",
    "\n",
    "cutoff_dfb = (2/(math.sqrt(n)))\n",
    "dfb = abs(inf_sum[\"dfb_P\"])\n",
    "dfb1 = pd.DataFrame(dfb)\n",
    "print(dfb1[dfb1>cutoff_dfb])\n",
    "print(\"\\n\")\n",
    "\n",
    "cutoff_dfb = (2/(math.sqrt(n)))\n",
    "dfb = abs(inf_sum[\"dfb_E\"])\n",
    "dfb1 = pd.DataFrame(dfb)\n",
    "print(dfb1[dfb1>cutoff_dfb])\n",
    "print(\"\\n\")"
   ]
  },
  {
   "cell_type": "code",
   "execution_count": 46,
   "id": "37699def",
   "metadata": {},
   "outputs": [
    {
     "name": "stdout",
     "output_type": "stream",
     "text": [
      "16    2.940191\n",
      "12    1.183462\n",
      "13    1.283542\n",
      "5     1.159032\n",
      "Name: dffits, dtype: float64\n",
      "\n",
      "\n"
     ]
    },
    {
     "data": {
      "application/javascript": [
       "\n",
       "        if (window._pyforest_update_imports_cell) { window._pyforest_update_imports_cell('import pandas as pd\\nimport matplotlib.pyplot as plt\\nimport numpy as np'); }\n",
       "    "
      ],
      "text/plain": [
       "<IPython.core.display.Javascript object>"
      ]
     },
     "metadata": {},
     "output_type": "display_data"
    },
    {
     "name": "stdout",
     "output_type": "stream",
     "text": [
      "     cooks_d\n",
      "4        NaN\n",
      "16  1.013997\n",
      "6        NaN\n",
      "7        NaN\n",
      "15       NaN\n",
      "12       NaN\n",
      "9        NaN\n",
      "11       NaN\n",
      "19       NaN\n",
      "18       NaN\n",
      "13       NaN\n",
      "5        NaN\n",
      "0        NaN\n",
      "8        NaN\n",
      "3        NaN\n",
      "10       NaN\n"
     ]
    }
   ],
   "source": [
    "#DFFITS\n",
    "cutoff_dffits = 2* math.sqrt(k/n)\n",
    "dff = inf_sum[\"dffits\"]\n",
    "print(dff[dff>cutoff_dffits])\n",
    "print(\"\\n\")\n",
    "\n",
    "#COOK'S DISTANCE\n",
    "cutoff_cooks = (inf_sum[\"cooks_d\"].mean()*3)\n",
    "c = abs(inf_sum[\"cooks_d\"])\n",
    "c1 =pd.DataFrame(c)\n",
    "print(c1[c1>cutoff_cooks])"
   ]
  },
  {
   "cell_type": "markdown",
   "id": "0e2d3e32",
   "metadata": {},
   "source": [
    "##### regression plot to check for outliers"
   ]
  },
  {
   "cell_type": "code",
   "execution_count": 47,
   "id": "bfeb1099",
   "metadata": {},
   "outputs": [
    {
     "data": {
      "application/javascript": [
       "\n",
       "        if (window._pyforest_update_imports_cell) { window._pyforest_update_imports_cell('import pandas as pd\\nimport matplotlib.pyplot as plt\\nimport numpy as np'); }\n",
       "    "
      ],
      "text/plain": [
       "<IPython.core.display.Javascript object>"
      ]
     },
     "metadata": {},
     "output_type": "display_data"
    },
    {
     "data": {
      "application/javascript": [
       "\n",
       "        if (window._pyforest_update_imports_cell) { window._pyforest_update_imports_cell('import seaborn as sns\\nimport pandas as pd\\nimport matplotlib.pyplot as plt\\nimport numpy as np'); }\n",
       "    "
      ],
      "text/plain": [
       "<IPython.core.display.Javascript object>"
      ]
     },
     "metadata": {},
     "output_type": "display_data"
    },
    {
     "data": {
      "application/javascript": [
       "\n",
       "        if (window._pyforest_update_imports_cell) { window._pyforest_update_imports_cell('import seaborn as sns\\nimport pandas as pd\\nimport matplotlib.pyplot as plt\\nimport numpy as np'); }\n",
       "    "
      ],
      "text/plain": [
       "<IPython.core.display.Javascript object>"
      ]
     },
     "metadata": {},
     "output_type": "display_data"
    },
    {
     "data": {
      "application/javascript": [
       "\n",
       "        if (window._pyforest_update_imports_cell) { window._pyforest_update_imports_cell('import seaborn as sns\\nimport pandas as pd\\nimport matplotlib.pyplot as plt\\nimport numpy as np'); }\n",
       "    "
      ],
      "text/plain": [
       "<IPython.core.display.Javascript object>"
      ]
     },
     "metadata": {},
     "output_type": "display_data"
    },
    {
     "data": {
      "application/javascript": [
       "\n",
       "        if (window._pyforest_update_imports_cell) { window._pyforest_update_imports_cell('import seaborn as sns\\nimport pandas as pd\\nimport matplotlib.pyplot as plt\\nimport numpy as np'); }\n",
       "    "
      ],
      "text/plain": [
       "<IPython.core.display.Javascript object>"
      ]
     },
     "metadata": {},
     "output_type": "display_data"
    },
    {
     "data": {
      "application/javascript": [
       "\n",
       "        if (window._pyforest_update_imports_cell) { window._pyforest_update_imports_cell('import seaborn as sns\\nimport pandas as pd\\nimport matplotlib.pyplot as plt\\nimport numpy as np'); }\n",
       "    "
      ],
      "text/plain": [
       "<IPython.core.display.Javascript object>"
      ]
     },
     "metadata": {},
     "output_type": "display_data"
    },
    {
     "data": {
      "application/javascript": [
       "\n",
       "        if (window._pyforest_update_imports_cell) { window._pyforest_update_imports_cell('import seaborn as sns\\nimport pandas as pd\\nimport matplotlib.pyplot as plt\\nimport numpy as np'); }\n",
       "    "
      ],
      "text/plain": [
       "<IPython.core.display.Javascript object>"
      ]
     },
     "metadata": {},
     "output_type": "display_data"
    },
    {
     "data": {
      "text/plain": [
       "Text(0.5, 1.0, 'Model E vs Y')"
      ]
     },
     "execution_count": 47,
     "metadata": {},
     "output_type": "execute_result"
    },
    {
     "data": {
      "image/png": "[encoded data removed]",
      "text/plain": [
       "<Figure size 1440x720 with 6 Axes>"
      ]
     },
     "metadata": {
      "needs_background": "light"
     },
     "output_type": "display_data"
    }
   ],
   "source": [
    "y_pred2 = result2.predict(X)\n",
    "\n",
    "fig, axs = plt.subplots(2,3, figsize=(20,10))\n",
    "\n",
    "sns.regplot(x=A, y=Y, data=cs, ax=axs[0][0])\n",
    "axs[0][0].set_title(\"Model A vs Y\")\n",
    "\n",
    "sns.regplot(x=T, y=Y, data=cs, ax=axs[0][1])\n",
    "axs[0][1].set_title(\"Model T vs Y\")\n",
    "\n",
    "sns.regplot(x=S, y=Y, data=cs, ax=axs[0][2])\n",
    "axs[0][2].set_title(\"Model S vs Y\")\n",
    "\n",
    "sns.regplot(x=C, y=Y, data=cs, ax=axs[1][0])\n",
    "axs[1][0].set_title(\"Model C vs Y\")\n",
    "\n",
    "sns.regplot(x=P, y=Y, data=cs, ax=axs[1][1])\n",
    "axs[1][1].set_title(\"Model P vs Y\")\n",
    "\n",
    "sns.regplot(x=E, y=Y, data=cs, ax=axs[1][2])\n",
    "axs[1][2].set_title(\"Model E vs Y\")"
   ]
  },
  {
   "cell_type": "code",
   "execution_count": 48,
   "id": "9830901b",
   "metadata": {},
   "outputs": [
    {
     "data": {
      "application/javascript": [
       "\n",
       "        if (window._pyforest_update_imports_cell) { window._pyforest_update_imports_cell('import seaborn as sns\\nimport pandas as pd\\nimport matplotlib.pyplot as plt\\nimport numpy as np'); }\n",
       "    "
      ],
      "text/plain": [
       "<IPython.core.display.Javascript object>"
      ]
     },
     "metadata": {},
     "output_type": "display_data"
    },
    {
     "data": {
      "application/javascript": [
       "\n",
       "        if (window._pyforest_update_imports_cell) { window._pyforest_update_imports_cell('import seaborn as sns\\nimport pandas as pd\\nimport matplotlib.pyplot as plt\\nimport numpy as np'); }\n",
       "    "
      ],
      "text/plain": [
       "<IPython.core.display.Javascript object>"
      ]
     },
     "metadata": {},
     "output_type": "display_data"
    },
    {
     "data": {
      "application/javascript": [
       "\n",
       "        if (window._pyforest_update_imports_cell) { window._pyforest_update_imports_cell('import seaborn as sns\\nimport pandas as pd\\nimport matplotlib.pyplot as plt\\nimport numpy as np'); }\n",
       "    "
      ],
      "text/plain": [
       "<IPython.core.display.Javascript object>"
      ]
     },
     "metadata": {},
     "output_type": "display_data"
    },
    {
     "data": {
      "application/javascript": [
       "\n",
       "        if (window._pyforest_update_imports_cell) { window._pyforest_update_imports_cell('import seaborn as sns\\nimport pandas as pd\\nimport matplotlib.pyplot as plt\\nimport numpy as np'); }\n",
       "    "
      ],
      "text/plain": [
       "<IPython.core.display.Javascript object>"
      ]
     },
     "metadata": {},
     "output_type": "display_data"
    },
    {
     "data": {
      "text/plain": [
       "Text(0, 0.5, 'Studentized Residuals')"
      ]
     },
     "execution_count": 48,
     "metadata": {},
     "output_type": "execute_result"
    },
    {
     "data": {
      "image/png": "[encoded data removed]",
      "text/plain": [
       "<Figure size 432x288 with 1 Axes>"
      ]
     },
     "metadata": {
      "needs_background": "light"
     },
     "output_type": "display_data"
    }
   ],
   "source": [
    "plt.scatter(levg,inf_sum[\"student_resid\"],color = \"red\")\n",
    "plt.title('Leverage vs. Studentized Residuals')\n",
    "plt.xlabel('Leverage')\n",
    "plt.ylabel('Studentized Residuals')"
   ]
  },
  {
   "cell_type": "code",
   "execution_count": 49,
   "id": "aa731c87",
   "metadata": {},
   "outputs": [
    {
     "data": {
      "application/javascript": [
       "\n",
       "        if (window._pyforest_update_imports_cell) { window._pyforest_update_imports_cell('import seaborn as sns\\nimport pandas as pd\\nimport matplotlib.pyplot as plt\\nimport numpy as np'); }\n",
       "    "
      ],
      "text/plain": [
       "<IPython.core.display.Javascript object>"
      ]
     },
     "metadata": {},
     "output_type": "display_data"
    },
    {
     "data": {
      "image/png": "[encoded data removed]",
      "text/plain": [
       "<Figure size 576x504 with 1 Axes>"
      ]
     },
     "metadata": {
      "needs_background": "light"
     },
     "output_type": "display_data"
    }
   ],
   "source": [
    "fig, ax = plt.subplots(figsize=(8,7))\n",
    "fig = sm.graphics.influence_plot(result2, ax= ax, criterion=\"cooks\", alpha = 0.5)"
   ]
  },
  {
   "cell_type": "code",
   "execution_count": null,
   "id": "038be519",
   "metadata": {},
   "outputs": [],
   "source": []
  },
  {
   "cell_type": "code",
   "execution_count": null,
   "id": "fcce0748",
   "metadata": {},
   "outputs": [],
   "source": []
  },
  {
   "cell_type": "code",
   "execution_count": null,
   "id": "d74a3f3b",
   "metadata": {},
   "outputs": [],
   "source": []
  }
 ],
 "metadata": {
  "kernelspec": {
   "display_name": "Python 3 (ipykernel)",
   "language": "python",
   "name": "python3"
  },
  "language_info": {
   "codemirror_mode": {
    "name": "ipython",
    "version": 3
   },
   "file_extension": ".py",
   "mimetype": "text/x-python",
   "name": "python",
   "nbconvert_exporter": "python",
   "pygments_lexer": "ipython3",
   "version": "3.10.2"
  }
 },
 "nbformat": 4,
 "nbformat_minor": 5
}
